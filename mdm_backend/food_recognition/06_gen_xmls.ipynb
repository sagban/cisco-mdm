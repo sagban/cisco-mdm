{
 "cells": [
  {
   "cell_type": "markdown",
   "metadata": {},
   "source": [
    "# 06_gen_xmls.py"
   ]
  },
  {
   "cell_type": "code",
   "execution_count": 1,
   "metadata": {},
   "outputs": [],
   "source": [
    "from PIL import Image\n",
    "from lxml import etree as ET\n",
    "import os"
   ]
  },
  {
   "cell_type": "code",
   "execution_count": 4,
   "metadata": {},
   "outputs": [],
   "source": [
    "LABELS = ['rice', 'roti', 'dal', 'sabzi']"
   ]
  },
  {
   "cell_type": "code",
   "execution_count": 5,
   "metadata": {},
   "outputs": [],
   "source": [
    "def gen_template():\n",
    "    root = ET.Element('annotation', verified='yes')\n",
    "\n",
    "    folder = ET.SubElement(root, 'folder')\n",
    "    folder.text = 'Dataset/1'\n",
    "\n",
    "    filename = ET.SubElement(root, 'filename')\n",
    "    filename.text = '1.jpg'\n",
    "\n",
    "    path = ET.SubElement(root, 'path')\n",
    "    path.text = os.path.join(folder.text, filename.text)\n",
    "\n",
    "    size = ET.SubElement(root, 'size')\n",
    "    width = ET.SubElement(size, 'width')\n",
    "    width.text = '224'\n",
    "    height = ET.SubElement(size, 'width')\n",
    "    height.text = '224'\n",
    "    depth = ET.SubElement(size, 'width')\n",
    "    depth.text = '3'\n",
    "\n",
    "    object = ET.SubElement(root, 'object')\n",
    "    name = ET.SubElement(object, 'name')\n",
    "    name.text = 'rice'\n",
    "\n",
    "    bndbox = ET.SubElement(object, 'bndbox')\n",
    "    xmin = ET.SubElement(bndbox, 'xmin')\n",
    "    xmin.text = '0'\n",
    "    ymin = ET.SubElement(bndbox, 'ymin')\n",
    "    ymin.text = '143'\n",
    "    xmax = ET.SubElement(bndbox, 'xmax')\n",
    "    xmax.text = '370'\n",
    "    ymax = ET.SubElement(bndbox, 'ymax')\n",
    "    ymax.text = '486'\n",
    "\n",
    "    tree = ET.ElementTree(root)\n",
    "    tree.write('template.xml', pretty_print=True)"
   ]
  },
  {
   "cell_type": "code",
   "execution_count": 9,
   "metadata": {},
   "outputs": [],
   "source": [
    "def write_xml(line, folder_num):\n",
    "    root = ET.Element('annotation', verified='yes')\n",
    "\n",
    "    folder = ET.SubElement(root, 'folder')\n",
    "    folder.text = os.path.join(\"Dataset\", folder_num)\n",
    "\n",
    "    filename = ET.SubElement(root, 'filename')\n",
    "    filename.text = line[0] + '.jpg'\n",
    "\n",
    "    path = ET.SubElement(root, 'path')\n",
    "    path.text = os.path.join('Dataset', folder_num, line[0] + '.jpg')\n",
    "    assert Image.open(path.text).size == (224, 224)\n",
    "\n",
    "    size = ET.SubElement(root, 'size')\n",
    "    width = ET.SubElement(size, 'width')\n",
    "    width.text = str(Image.open(path.text).size[0])\n",
    "    height = ET.SubElement(size, 'height')\n",
    "    height.text = str(Image.open(path.text).size[1])\n",
    "    depth = ET.SubElement(size, 'depth')\n",
    "    depth.text = '3'\n",
    "\n",
    "    # if not os.path.exists(str(line[0]) + '.xml'):\n",
    "    object = ET.SubElement(root, 'object')\n",
    "    name = ET.SubElement(object, 'name')\n",
    "    name.text = LABELS[int(folder_num)-1]\n",
    "\n",
    "    bndbox = ET.SubElement(object, 'bndbox')\n",
    "    xmin = ET.SubElement(bndbox, 'xmin')\n",
    "    xmin.text = line[1]\n",
    "    ymin = ET.SubElement(bndbox, 'ymin')\n",
    "    ymin.text = line[2]\n",
    "    xmax = ET.SubElement(bndbox, 'xmax')\n",
    "    xmax.text = line[3]\n",
    "    ymax = ET.SubElement(bndbox, 'ymax')\n",
    "    ymax.text = line[4]\n",
    "\n",
    "    tree = ET.ElementTree(root)\n",
    "    tree.write(os.path.join(folder.text, 'annotations', line[0] + '.xml'), pretty_print=True, encoding='utf-8')"
   ]
  },
  {
   "cell_type": "code",
   "execution_count": 10,
   "metadata": {},
   "outputs": [],
   "source": [
    "def gen_xmls(datapath, folder_num):\n",
    "    new_bb_info = 'bb_info.txt'\n",
    "    with open(os.path.join(datapath, new_bb_info), 'r') as bbox_file:\n",
    "        num_items = sum(1 for line in open(os.path.join(datapath, new_bb_info))) - 1  # 620 images with 626 objects in total\n",
    "        print(num_items)\n",
    "        for i, line in enumerate(bbox_file):\n",
    "            if i > 0:\n",
    "                line = line.rstrip('\\n')\n",
    "                line = line.split(' ')\n",
    "                write_xml(line, folder_num)\n",
    "    print('Done!')"
   ]
  },
  {
   "cell_type": "code",
   "execution_count": 11,
   "metadata": {},
   "outputs": [
    {
     "name": "stdout",
     "output_type": "stream",
     "text": [
      "915\n",
      "Done!\n",
      "385\n",
      "Done!\n",
      "467\n",
      "Done!\n",
      "882\n",
      "Done!\n"
     ]
    }
   ],
   "source": [
    "for i in range(1, 5):\n",
    "    datapath = 'Dataset/' + str(i)\n",
    "    gen_xmls(datapath, str(i))"
   ]
  },
  {
   "cell_type": "code",
   "execution_count": 11,
   "metadata": {},
   "outputs": [],
   "source": [
    "gen_template()"
   ]
  }
 ],
 "metadata": {
  "kernelspec": {
   "display_name": "Python 3",
   "language": "python",
   "name": "python3"
  },
  "language_info": {
   "codemirror_mode": {
    "name": "ipython",
    "version": 3
   },
   "file_extension": ".py",
   "mimetype": "text/x-python",
   "name": "python",
   "nbconvert_exporter": "python",
   "pygments_lexer": "ipython3",
   "version": "3.6.4"
  }
 },
 "nbformat": 4,
 "nbformat_minor": 2
}
