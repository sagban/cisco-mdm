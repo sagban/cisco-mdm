{
 "cells": [
  {
   "cell_type": "markdown",
   "metadata": {},
   "source": [
    "# 03_anchor_generator\n",
    "**This file used to generate anchors for UECFOOD100 dataset through kmeans.\n",
    "Distance here is not Euclidean distance but IoU (Intersection over Union) in\n",
    "accordance with original yolo-v2 paper.**"
   ]
  },
  {
   "cell_type": "code",
   "execution_count": 1,
   "metadata": {},
   "outputs": [],
   "source": [
    "import os\n",
    "import random\n",
    "\n",
    "import matplotlib.pyplot as plt\n",
    "import numpy as np"
   ]
  },
  {
   "cell_type": "markdown",
   "metadata": {},
   "source": [
    "**k-means clustering**:  \n",
    "- Input: k, set of points [w1,h1], [w2,h2], [w3, h3], ..., [wn, hn] \n",
    "- Place centroids c1, ..., ck at random locations (randomly select k [w,h] among input img wh)\n",
    "- Repeat until convergence:\n",
    "    - for each point [wi,hi]:\n",
    "        - find nearest centroid cj. (np.argmin(new_distances, axis=1))\n",
    "        - assign the point [wi,hi] to cluster j.\n",
    "    - for each cluster j=1, ...,k: (update centroids)\n",
    "        - new centroid cj=mean of all points [wi,hi] assigned to cluster j in previous step\n",
    "        $\\frac{1}{n_j}\\sum\\limits_{x_i\\rightarrow c_j}x_i(a)$  (a means a particular attribute in this case a is wh[i])\n",
    "- Stop when none of the cluster assignments change"
   ]
  },
  {
   "cell_type": "code",
   "execution_count": 2,
   "metadata": {},
   "outputs": [],
   "source": [
    "def kmeans(wh, centroids, anchor_txt):\n",
    "    num = wh.shape[0]  # total number of different wh pairs\n",
    "    k, dim = centroids.shape\n",
    "    iter = 0\n",
    "    old_distances = np.zeros((num, k))\n",
    "    _assignments = -np.ones(num)\n",
    "\n",
    "    # iterate until\n",
    "    while True:\n",
    "        new_distances = []\n",
    "        iter += 1\n",
    "        for i in range(num):\n",
    "            distance = 1 - IoU(wh[i], centroids)  # high IoU represents low distance\n",
    "            new_distances.append(distance)\n",
    "        new_distances = np.array(new_distances)\n",
    "#         print('Iter {}: distances: {}'.format(iter, np.sum((np.abs(old_distances - new_distances)))))\n",
    "\n",
    "        # for each input img assign a centroid (select the closed one)\n",
    "        assignments = np.argmin(new_distances, axis=1)\n",
    "        if (assignments == _assignments).all():\n",
    "            print('final centroids =', centroids)\n",
    "            save_anchors(centroids, anchor_txt, wh_in_mobilenet)\n",
    "            return centroids\n",
    "        else:\n",
    "            centroid_sums = np.zeros((k, dim), np.float)\n",
    "            for i in range(num):\n",
    "                centroid_sums[assignments[i]] += wh[i]  # sum up attribute\n",
    "            for j in range(k):\n",
    "                # new centroids\n",
    "                centroids[j] = centroid_sums[j] / np.sum(assignments == j)\n",
    "\n",
    "            _assignments = assignments.copy()\n",
    "            old_distances = new_distances.copy()"
   ]
  },
  {
   "cell_type": "code",
   "execution_count": 3,
   "metadata": {},
   "outputs": [],
   "source": [
    "def save_anchors(centroids, anchor_txt, wh_in_mobilenet):\n",
    "    width_in_yolov2 = wh_in_mobilenet[0]\n",
    "    height_in_yolov2 = wh_in_mobilenet[1]\n",
    "    with open(anchor_txt, 'w') as file:\n",
    "        anchors = centroids.copy()\n",
    "        for i in range(anchors.shape[0]):\n",
    "            anchors[i][0] *= width_in_yolov2 / 32.\n",
    "            anchors[i][1] *= height_in_yolov2 / 32.\n",
    "        widths = anchors[:, 0]\n",
    "        sorted_indices = np.argsort(widths)  # return the indices that sort tht array\n",
    "        print('anchors = ', anchors[sorted_indices])\n",
    "\n",
    "        for i in sorted_indices:\n",
    "            file.write('%0.2f, %0.2f\\n' % (anchors[i, 0], anchors[i, 1]))"
   ]
  },
  {
   "cell_type": "code",
   "execution_count": 4,
   "metadata": {},
   "outputs": [],
   "source": [
    "def avgIoU(wh, centroids):\n",
    "    sum = 0.\n",
    "    for i in range(wh.shape[0]):\n",
    "        sum += max(IoU(wh[i], centroids))\n",
    "    return sum / wh.shape[0]"
   ]
  },
  {
   "cell_type": "markdown",
   "metadata": {},
   "source": [
    "**IoU - Intersection over Union **"
   ]
  },
  {
   "cell_type": "code",
   "execution_count": 5,
   "metadata": {},
   "outputs": [],
   "source": [
    "def IoU(whi, centroids):\n",
    "    \"\"\" Calculate IoU between current centroids with one in wh array to check if current\n",
    "    centroids are suitable enough\n",
    "    :param whi:\n",
    "    :param centroids:\n",
    "    :return:\n",
    "    \"\"\"\n",
    "    IOU = []\n",
    "    for centroid in centroids:\n",
    "        c_w, c_h = centroid\n",
    "        w, h = whi\n",
    "        if c_w >= w and c_h >= h:\n",
    "            iou = w * h / (c_w * c_h)\n",
    "        elif c_w >= w and c_h <= h:\n",
    "            iou = w * c_h / (w * h + (c_w - w) * c_h)\n",
    "        elif c_w <= w and c_h >= h:\n",
    "            iou = c_w * h / (w * h + (c_h - h) * c_w)\n",
    "        else:\n",
    "            iou = c_w * c_h / (w * h)\n",
    "        IOU.append(iou)\n",
    "    return np.array(IOU)"
   ]
  },
  {
   "cell_type": "code",
   "execution_count": 6,
   "metadata": {},
   "outputs": [],
   "source": [
    "def coordinate2wh(coordinates, uec100_dims):\n",
    "    coordinates = list(map(float, coordinates))\n",
    "    w = (coordinates[2] - coordinates[0]) / uec100_dims[0]  # x2-x1\n",
    "    h = (coordinates[3] - coordinates[1]) / uec100_dims[0]  # y2-y1\n",
    "    return w, h"
   ]
  },
  {
   "cell_type": "code",
   "execution_count": 7,
   "metadata": {},
   "outputs": [],
   "source": [
    "def gen_anchors(n_clusters, uec100_dims):\n",
    "#     dataset_disk = '/Volumes/JS/UECFOOD100_448/'\n",
    "    dataset_disk = os.path.join(os.getcwd(), \"Dataset\")\n",
    "    output_path = os.path.join(dataset_disk, 'generated_anchors_mobilenet')\n",
    "    train_food = os.path.join(dataset_disk, 'train_food.txt')\n",
    "\n",
    "    if not os.path.exists(output_path):\n",
    "        os.mkdir(output_path)\n",
    "\n",
    "    wh = []\n",
    "\n",
    "    with open(train_food, 'r') as file:\n",
    "        for i, line in enumerate(file):\n",
    "            if i > 0:\n",
    "                line = line.rstrip('\\n')\n",
    "                line = line.split(' ')\n",
    "                coordinates = line[2:]\n",
    "                w, h = coordinate2wh(coordinates, uec100_dims)\n",
    "                wh.append([w, h])\n",
    "        wh = np.array(wh)\n",
    "\n",
    "        if n_clusters == 0:  # make from 1 to 10 clusters and pick the best one\n",
    "            avgIou = []\n",
    "            for n_cluster in range(1, 11):\n",
    "                anchor_txt = os.path.join(output_path, 'anchors_%d.txt' % (n_cluster))\n",
    "                # randomly select n_cluster anchors from wh array which contain w,h for each img\n",
    "                indices = [random.randrange(wh.shape[0]) for i in range(n_cluster)]\n",
    "                centroids = wh[indices]\n",
    "                centroids = kmeans(wh, centroids, anchor_txt)\n",
    "                avgIou.append([n_cluster, avgIoU(wh, centroids)])\n",
    "            avgIou = np.array(avgIou)\n",
    "            plt.plot(avgIou[:, 0], avgIou[:, 1])\n",
    "            plt.scatter(avgIou[:, 0], avgIou[:, 1], c='r')\n",
    "            plt.xlabel('number of cluster')\n",
    "            plt.ylabel('average IoU')\n",
    "            plt.savefig('avg_iou')\n",
    "            plt.show()\n",
    "        else:\n",
    "            anchor_txt = os.path.join(output_path, 'anchors_%d.txt' % (n_clusters))\n",
    "            # randomly select n_cluster anchors from wh array which contain w,h for each img\n",
    "            indices = [random.randrange(wh.shape[0]) for i in range(n_clusters)]\n",
    "            centroids = wh[indices]\n",
    "            kmeans(wh, centroids, anchor_txt)\n",
    "\n",
    "        print('Done!')"
   ]
  },
  {
   "cell_type": "code",
   "execution_count": 8,
   "metadata": {},
   "outputs": [],
   "source": [
    "wh_in_mobilenet = [224, 224]\n",
    "uec256_dims = [224, 224]  # dataset image width=800, height=600\n",
    "n_clusters = 0"
   ]
  },
  {
   "cell_type": "code",
   "execution_count": 9,
   "metadata": {
    "scrolled": false
   },
   "outputs": [
    {
     "name": "stdout",
     "output_type": "stream",
     "text": [
      "final centroids = [[0.50706026 0.4862981 ]]\n",
      "anchors =  [[3.54942181 3.40408669]]\n",
      "final centroids = [[0.76464821 0.70456976]\n",
      " [0.35036961 0.35352353]]\n",
      "anchors =  [[2.4525873  2.47466473]\n",
      " [5.35253744 4.93198835]]\n",
      "final centroids = [[0.52163731 0.45293643]\n",
      " [0.29096761 0.31526855]\n",
      " [0.81041667 0.77893062]]\n",
      "anchors =  [[2.03677326 2.20687984]\n",
      " [3.6514612  3.17055501]\n",
      " [5.67291667 5.45251437]]\n",
      "final centroids = [[0.82214669 0.809831  ]\n",
      " [0.36430432 0.42053571]\n",
      " [0.63987191 0.49134281]\n",
      " [0.27929756 0.2632722 ]]\n",
      "anchors =  [[1.95508292 1.84290541]\n",
      " [2.55013021 2.94375   ]\n",
      " [4.47910334 3.4393997 ]\n",
      " [5.75502681 5.66881702]]\n",
      "final centroids = [[0.87947963 0.81655007]\n",
      " [0.63073002 0.64054803]\n",
      " [0.35625778 0.43148926]\n",
      " [0.6179083  0.35339937]\n",
      " [0.26686251 0.26430653]]\n",
      "anchors =  [[1.86803756 1.85014573]\n",
      " [2.49380447 3.02042484]\n",
      " [4.32535807 2.47379557]\n",
      " [4.41511015 4.48383621]\n",
      " [6.15635739 5.71585052]]\n",
      "final centroids = [[0.80061813 0.58598901]\n",
      " [0.58817568 0.33424228]\n",
      " [0.25989347 0.25823384]\n",
      " [0.50243082 0.59889211]\n",
      " [0.8456531  0.87325697]\n",
      " [0.33899872 0.41295706]]\n",
      "anchors =  [[1.81925432 1.80763689]\n",
      " [2.37299107 2.8906994 ]\n",
      " [3.51701571 4.19224476]\n",
      " [4.11722973 2.33969595]\n",
      " [5.60432692 4.10192308]\n",
      " [5.91957171 6.1127988 ]]\n",
      "final centroids = [[0.42548766 0.48700158]\n",
      " [0.24152177 0.23190789]\n",
      " [0.8880768  0.86441214]\n",
      " [0.78983105 0.52143926]\n",
      " [0.61596254 0.72958406]\n",
      " [0.54233631 0.30691964]\n",
      " [0.30255952 0.37667857]]\n",
      "anchors =  [[1.69065241 1.62335526]\n",
      " [2.11791667 2.63675   ]\n",
      " [2.97841365 3.40901104]\n",
      " [3.79635417 2.1484375 ]\n",
      " [4.3117378  5.10708841]\n",
      " [5.52881737 3.65007485]\n",
      " [6.21653761 6.05088496]]\n",
      "final centroids = [[0.46052888 0.53739754]\n",
      " [0.24023536 0.25380174]\n",
      " [0.6503666  0.7594903 ]\n",
      " [0.85057583 0.5949793 ]\n",
      " [0.89969388 0.90252551]\n",
      " [0.32329955 0.40625   ]\n",
      " [0.46819921 0.27922078]\n",
      " [0.67529297 0.40366908]]\n",
      "anchors =  [[1.68164753 1.77661219]\n",
      " [2.26309682 2.84375   ]\n",
      " [3.22370219 3.76178279]\n",
      " [3.27739448 1.95454545]\n",
      " [4.55256623 5.31643212]\n",
      " [4.72705078 2.82568359]\n",
      " [5.9540308  4.16485507]\n",
      " [6.29785714 6.31767857]]\n",
      "final centroids = [[0.86375409 0.6135837 ]\n",
      " [0.22274787 0.20325826]\n",
      " [0.68901047 0.42071697]\n",
      " [0.89831933 0.90766807]\n",
      " [0.27815807 0.31468254]\n",
      " [0.49403721 0.28593282]\n",
      " [0.47706583 0.55042017]\n",
      " [0.340553   0.43306452]\n",
      " [0.64864532 0.76231527]]\n",
      "anchors =  [[1.55923507 1.42280784]\n",
      " [1.94710648 2.20277778]\n",
      " [2.38387097 3.03145161]\n",
      " [3.33946078 3.85294118]\n",
      " [3.45826049 2.00152972]\n",
      " [4.54051724 5.3362069 ]\n",
      " [4.82307331 2.9450188 ]\n",
      " [6.04627863 4.29508588]\n",
      " [6.28823529 6.35367647]]\n",
      "final centroids = [[0.64931611 0.77548759]\n",
      " [0.49807866 0.54427554]\n",
      " [0.29855372 0.24771251]\n",
      " [0.68626847 0.3830819 ]\n",
      " [0.90266819 0.90251246]\n",
      " [0.46082746 0.29005282]\n",
      " [0.84381033 0.59559001]\n",
      " [0.35847339 0.44080882]\n",
      " [0.19790338 0.21273119]\n",
      " [0.27044802 0.36686862]]\n",
      "anchors =  [[1.38532366 1.4891183 ]\n",
      " [1.89313616 2.56808036]\n",
      " [2.08987603 1.7339876 ]\n",
      " [2.50931373 3.08566176]\n",
      " [3.22579225 2.03036972]\n",
      " [3.48655063 3.8099288 ]\n",
      " [4.54521277 5.42841312]\n",
      " [4.80387931 2.68157328]\n",
      " [5.9066723  4.16913007]\n",
      " [6.31867733 6.31758721]]\n"
     ]
    },
    {
     "data": {
      "image/png": "[encoded data removed]",
      "text/plain": [
       "<Figure size 432x288 with 1 Axes>"
      ]
     },
     "metadata": {
      "needs_background": "light"
     },
     "output_type": "display_data"
    },
    {
     "name": "stdout",
     "output_type": "stream",
     "text": [
      "Done!\n"
     ]
    }
   ],
   "source": [
    "gen_anchors(n_clusters, uec256_dims)"
   ]
  },
  {
   "cell_type": "code",
   "execution_count": null,
   "metadata": {
    "collapsed": true
   },
   "outputs": [],
   "source": []
  }
 ],
 "metadata": {
  "kernelspec": {
   "display_name": "Python 3",
   "language": "python",
   "name": "python3"
  },
  "language_info": {
   "codemirror_mode": {
    "name": "ipython",
    "version": 3
   },
   "file_extension": ".py",
   "mimetype": "text/x-python",
   "name": "python",
   "nbconvert_exporter": "python",
   "pygments_lexer": "ipython3",
   "version": "3.6.4"
  }
 },
 "nbformat": 4,
 "nbformat_minor": 2
}
