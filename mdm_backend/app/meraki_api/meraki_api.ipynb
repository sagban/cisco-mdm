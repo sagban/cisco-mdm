{
  "nbformat": 4,
  "nbformat_minor": 0,
  "metadata": {
    "colab": {
      "name": "meraki_api.ipynb",
      "provenance": [],
      "collapsed_sections": []
    },
    "kernelspec": {
      "name": "python3",
      "display_name": "Python 3"
    }
  },
  "cells": [
    {
      "cell_type": "code",
      "metadata": {
        "id": "MAPpUiACorcg",
        "colab_type": "code",
        "colab": {
          "base_uri": "https://localhost:8080/",
          "height": 34
        },
        "outputId": "ab96dcad-a149-4166-c3aa-19ad58c4a940"
      },
      "source": [
        "from google.colab import drive\n",
        "drive.mount('/content/drive', force_remount=True)"
      ],
      "execution_count": null,
      "outputs": [
        {
          "output_type": "stream",
          "text": [
            "Mounted at /content/drive\n"
          ],
          "name": "stdout"
        }
      ]
    },
    {
      "cell_type": "markdown",
      "metadata": {
        "id": "AxX2hp1xrO5G",
        "colab_type": "text"
      },
      "source": [
        "https://api.meraki.com/api/v0/networks/N_711005791171205780/cameras/Q2JV-BY67-ABC8/snapshot'\n",
        "\n",
        "network : N_711005791171205780"
      ]
    },
    {
      "cell_type": "code",
      "metadata": {
        "id": "HLvWu2ArCkI3",
        "colab_type": "code",
        "colab": {}
      },
      "source": [
        " #! pip install boto3==1.12.37 botocore==1.15.37 certifi==2020.4.5.1 chardet==3.0.4 docutils==0.15.2 idna==2.9 jmespath==0.9.5 paho-mqtt==1.5.0 python-dateutil==2.8.1 requests==2.23.0 s3transfer==0.3.3 six==1.14.0 urllib3==1.25.8"
      ],
      "execution_count": null,
      "outputs": []
    },
    {
      "cell_type": "code",
      "metadata": {
        "id": "qkfx5kuMqVu0",
        "colab_type": "code",
        "colab": {}
      },
      "source": [
        "#!cat '/content/drive/My Drive/SIH 2020/credentials.ini'"
      ],
      "execution_count": null,
      "outputs": []
    },
    {
      "cell_type": "code",
      "metadata": {
        "id": "89rhqzAZEVVF",
        "colab_type": "code",
        "colab": {
          "base_uri": "https://localhost:8080/",
          "height": 35
        },
        "outputId": "d85b8e3c-93a4-4183-f2c3-cdad7d4d8644"
      },
      "source": [
        "import os\n",
        "import configparser\n",
        "import sys\n",
        "import json\n",
        "import requests\n",
        "import boto3\n",
        "import paho.mqtt.client as mqtt\n",
        "from PIL import Image\n",
        "import requests\n",
        "from io import BytesIO\n",
        "import datetime\n",
        "import pytz\n",
        "os.getcwd()"
      ],
      "execution_count": 69,
      "outputs": [
        {
          "output_type": "execute_result",
          "data": {
            "application/vnd.google.colaboratory.intrinsic+json": {
              "type": "string"
            },
            "text/plain": [
              "'/content'"
            ]
          },
          "metadata": {
            "tags": []
          },
          "execution_count": 69
        }
      ]
    },
    {
      "cell_type": "code",
      "metadata": {
        "id": "GBh6SJ4ymkIb",
        "colab_type": "code",
        "colab": {}
      },
      "source": [
        "BASE_PATH = '/content/drive/My Drive/SIH 2020'\n"
      ],
      "execution_count": 70,
      "outputs": []
    },
    {
      "cell_type": "code",
      "metadata": {
        "id": "znK6MQ5F7ZMs",
        "colab_type": "code",
        "colab": {}
      },
      "source": [
        "def iso(ts):\n",
        "  # return time.strftime(\"%Y %d %b %H:%M:%S +0000\", time.localtime(ts))\n",
        "  d = datetime.datetime.utcfromtimestamp(ts/1000).isoformat()\n",
        "  return d[:-7]+'Z'"
      ],
      "execution_count": 87,
      "outputs": []
    },
    {
      "cell_type": "code",
      "metadata": {
        "id": "O35nPM1bLHCK",
        "colab_type": "code",
        "colab": {}
      },
      "source": [
        "def url_to_img(url):\n",
        "  response = requests.get(url)\n",
        "  img = Image.open(BytesIO(response.content))\n",
        "  return img"
      ],
      "execution_count": 88,
      "outputs": []
    },
    {
      "cell_type": "code",
      "metadata": {
        "id": "zMcAO0HcmJFE",
        "colab_type": "code",
        "colab": {}
      },
      "source": [
        "def on_connect(mq_client, userdata, flags, result_code):\n",
        "    \"\"\"The callback for when the client receives a CONNACK response from the server\"\"\"\n",
        "    print(f'Connected with result code {result_code}')\n",
        "    serial = userdata['MV_SERIAL']\n",
        "    # Subscribing in on_connect() means that if we lose the connection and\n",
        "    # reconnect then subscriptions will be renewed.\n",
        "    mq_client.subscribe(f'/merakimv/{serial}/raw_detections')\n",
        "    #client.subscribe(f'/merakimv/{serial}/light')"
      ],
      "execution_count": 89,
      "outputs": []
    },
    {
      "cell_type": "code",
      "metadata": {
        "id": "yKTNJ1mumbMu",
        "colab_type": "code",
        "colab": {}
      },
      "source": [
        "res_arr = []\n",
        "def on_message(client, userdata, msg):\n",
        "    \"\"\"When a PUBLISH message is received from the server, get a\n",
        "    URL to analyse\"\"\"\n",
        "    #triggers image analysis when incoming MQTT data is detected\n",
        "    # print(client, userdata, msq)\n",
        "    obj = msg.payload.decode(\"utf-8\")\n",
        "    res = json.loads(obj)\n",
        "    print(res)\n",
        "    objs = res['objects']\n",
        "    person_count = len(objs)\n",
        "    ts = res['ts']\n",
        "    # print(ts, person_count)\n",
        "    if(person_count>=0):\n",
        "      ts = iso(ts)\n",
        "      # s_url = get_meraki_snapshots(API_KEY, NET_ID, ts)\n",
        "      # res['url'] = s_url\n",
        "      res_arr.append(ts)\n",
        "      print(\"Item Saved with person > 0 and timestamp: \", ts)"
      ],
      "execution_count": 118,
      "outputs": []
    },
    {
      "cell_type": "code",
      "metadata": {
        "id": "wG6IiG9IxGlu",
        "colab_type": "code",
        "colab": {}
      },
      "source": [
        "# def analyze(ts):\n",
        "#     \"\"\"periodially takes snap URL from Meraki, sends to AWS rekognition\"\"\"\n",
        "#     flag = True\n",
        "#     if flag:\n",
        "#         # print(\"Request Snapshot URL\")\n",
        "#         #get the URL of a snapshot from our camera\n",
        "#         ts_arr.append(ts) "
      ],
      "execution_count": 99,
      "outputs": []
    },
    {
      "cell_type": "code",
      "metadata": {
        "id": "VwzhjF_vlfsk",
        "colab_type": "code",
        "colab": {}
      },
      "source": [
        "def get_meraki_snapshots(api_key, net_id, time=None):\n",
        "    \"\"\"Get devices of network\"\"\"\n",
        "    headers = {\n",
        "        'X-Cisco-Meraki-API-Key': api_key,\n",
        "        'Content-Type': 'application/json'\n",
        "        # issue where this is only needed if timestamp specified\n",
        "    }\n",
        "    response = session.get(f'https://api.meraki.com/api/v0/networks/{net_id}/devices',\n",
        "                           headers=headers)\n",
        "    devices = response.json()\n",
        "    #filter for MV cameras:\n",
        "    cameras = [device for device in devices if device['model'][:2] == 'MV']\n",
        "    # Assemble return data\n",
        "    for camera in cameras:\n",
        "        #filter for serial number provided\n",
        "        if camera[\"serial\"] == MV_SERIAL:\n",
        "            # Get snapshot link\n",
        "            if time:\n",
        "                headers['Content-Type'] = 'application/json'\n",
        "                response = session.post(\n",
        "                    f'https://api.meraki.com/api/v0/networks/{net_id}/cameras/{camera[\"serial\"]}/snapshot',\n",
        "                    headers=headers,\n",
        "                    data=json.dumps({'timestamp': time}))\n",
        "            else:\n",
        "                response = session.post(\n",
        "                    f'https://api.meraki.com/api/v0/networks/{net_id}/cameras/{camera[\"serial\"]}/snapshot',\n",
        "                    headers=headers)\n",
        "\n",
        "            # Possibly no snapshot if camera offline, photo not retrievable, etc.\n",
        "            print(response.json())\n",
        "            if response.ok:\n",
        "                snapshot_url = response.json()['url']\n",
        "                return snapshot_url\n",
        "            else:\n",
        "              return None\n",
        "        else:\n",
        "          return None\n"
      ],
      "execution_count": 100,
      "outputs": []
    },
    {
      "cell_type": "code",
      "metadata": {
        "id": "yv4dUOgtlvEO",
        "colab_type": "code",
        "colab": {}
      },
      "source": [
        "def gather_credentials():\n",
        "    \"\"\"Gather Meraki credentials\"\"\"\n",
        "    conf_par = configparser.ConfigParser()\n",
        "    try:\n",
        "        conf_par.read(os.path.join(BASE_PATH, 'credentials.ini'))\n",
        "        # conf_par.read('credentials.ini')\n",
        "        cam_key = conf_par.get('meraki', 'key')\n",
        "        net_id = conf_par.get('meraki', 'network')\n",
        "        mv_serial = conf_par.get('sense', 'serial')\n",
        "        server_ip = conf_par.get('server', 'ip')\n",
        "    except:\n",
        "        print('Missing credentials or input file!')\n",
        "        sys.exit(2)\n",
        "    return cam_key, net_id, mv_serial, server_ip"
      ],
      "execution_count": 101,
      "outputs": []
    },
    {
      "cell_type": "code",
      "metadata": {
        "id": "20XaqNPWmVM-",
        "colab_type": "code",
        "colab": {
          "base_uri": "https://localhost:8080/",
          "height": 616
        },
        "outputId": "46fd88b6-35a6-4a36-c73a-5bdf54c5f1b4"
      },
      "source": [
        "if __name__ == '__main__':\n",
        "\n",
        "    (API_KEY, NET_ID, MV_SERIAL, SERVER_IP) = gather_credentials()\n",
        "    USER_DATA = {\n",
        "        'API_KEY': API_KEY,\n",
        "        'NET_ID': NET_ID,\n",
        "        'MV_SERIAL': MV_SERIAL,\n",
        "        'SERVER_IP': SERVER_IP\n",
        "    }\n",
        "    session = requests.Session()\n",
        "    # Start MQTT client\n",
        "    client = mqtt.Client()\n",
        "    client.user_data_set(USER_DATA)\n",
        "    #on connection to a MQTT broker:\n",
        "    client.on_connect = on_connect\n",
        "    #when an MQTT message is received:\n",
        "    client.on_message = on_message\n",
        "    #specify the MQTT broker here\n",
        "    client.connect(SERVER_IP, 1883, 300)\n",
        "    client.loop_forever()"
      ],
      "execution_count": 119,
      "outputs": [
        {
          "output_type": "stream",
          "text": [
            "Connected with result code 0\n",
            "{'ts': 1596288310223, 'objects': [{'frame': 1098983, 'oid': 0, 'x0': 0.619, 'x1': 0, 'y0': 1, 'y1': 0, 'type': 'person'}]}\n",
            "Item Saved with person > 0 and timestamp:  2020-08-01T13:25:10Z\n",
            "{'ts': 1596288310478, 'objects': [{'frame': 1098986, 'oid': 0, 'x0': 0.548, 'x1': 0, 'y0': 1, 'y1': 0, 'type': 'person'}]}\n",
            "Item Saved with person > 0 and timestamp:  2020-08-01T13:25:10Z\n",
            "{'ts': 1596288311826, 'objects': [{'frame': 1098999, 'oid': 0, 'x0': 0.184, 'x1': 0, 'y0': 0.895, 'y1': 0.0683, 'type': 'person'}, {'frame': 1098999, 'oid': 1, 'x0': 0.742, 'x1': 0.0869, 'y0': 1, 'y1': 0, 'type': 'person'}]}\n",
            "Item Saved with person > 0 and timestamp:  2020-08-01T13:25:11Z\n",
            "{'ts': 1596288312090, 'objects': [{'frame': 1099002, 'oid': 0, 'x0': 0.106, 'x1': 0, 'y0': 0.856, 'y1': 0.0983, 'type': 'person'}]}\n",
            "Item Saved with person > 0 and timestamp:  2020-08-01T13:25:12Z\n",
            "{'ts': 1596288312503, 'objects': []}\n",
            "Item Saved with person > 0 and timestamp:  2020-08-01T13:25:12Z\n",
            "{'ts': 1596288314019, 'objects': []}\n",
            "Item Saved with person > 0 and timestamp:  2020-08-01T13:25:14Z\n",
            "{'ts': 1596288314356, 'objects': []}\n",
            "Item Saved with person > 0 and timestamp:  2020-08-01T13:25:14Z\n"
          ],
          "name": "stdout"
        },
        {
          "output_type": "error",
          "ename": "KeyboardInterrupt",
          "evalue": "ignored",
          "traceback": [
            "\u001b[0;31m---------------------------------------------------------------------------\u001b[0m",
            "\u001b[0;31mKeyboardInterrupt\u001b[0m                         Traceback (most recent call last)",
            "\u001b[0;32m<ipython-input-119-7c23f50e34fc>\u001b[0m in \u001b[0;36m<module>\u001b[0;34m()\u001b[0m\n\u001b[1;32m     18\u001b[0m     \u001b[0;31m#specify the MQTT broker here\u001b[0m\u001b[0;34m\u001b[0m\u001b[0;34m\u001b[0m\u001b[0;34m\u001b[0m\u001b[0m\n\u001b[1;32m     19\u001b[0m     \u001b[0mclient\u001b[0m\u001b[0;34m.\u001b[0m\u001b[0mconnect\u001b[0m\u001b[0;34m(\u001b[0m\u001b[0mSERVER_IP\u001b[0m\u001b[0;34m,\u001b[0m \u001b[0;36m1883\u001b[0m\u001b[0;34m,\u001b[0m \u001b[0;36m300\u001b[0m\u001b[0;34m)\u001b[0m\u001b[0;34m\u001b[0m\u001b[0;34m\u001b[0m\u001b[0m\n\u001b[0;32m---> 20\u001b[0;31m     \u001b[0mclient\u001b[0m\u001b[0;34m.\u001b[0m\u001b[0mloop_forever\u001b[0m\u001b[0;34m(\u001b[0m\u001b[0;34m)\u001b[0m\u001b[0;34m\u001b[0m\u001b[0;34m\u001b[0m\u001b[0m\n\u001b[0m",
            "\u001b[0;32m/usr/local/lib/python3.6/dist-packages/paho/mqtt/client.py\u001b[0m in \u001b[0;36mloop_forever\u001b[0;34m(self, timeout, max_packets, retry_first_connection)\u001b[0m\n\u001b[1;32m   1780\u001b[0m             \u001b[0mrc\u001b[0m \u001b[0;34m=\u001b[0m \u001b[0mMQTT_ERR_SUCCESS\u001b[0m\u001b[0;34m\u001b[0m\u001b[0;34m\u001b[0m\u001b[0m\n\u001b[1;32m   1781\u001b[0m             \u001b[0;32mwhile\u001b[0m \u001b[0mrc\u001b[0m \u001b[0;34m==\u001b[0m \u001b[0mMQTT_ERR_SUCCESS\u001b[0m\u001b[0;34m:\u001b[0m\u001b[0;34m\u001b[0m\u001b[0;34m\u001b[0m\u001b[0m\n\u001b[0;32m-> 1782\u001b[0;31m                 \u001b[0mrc\u001b[0m \u001b[0;34m=\u001b[0m \u001b[0mself\u001b[0m\u001b[0;34m.\u001b[0m\u001b[0mloop\u001b[0m\u001b[0;34m(\u001b[0m\u001b[0mtimeout\u001b[0m\u001b[0;34m,\u001b[0m \u001b[0mmax_packets\u001b[0m\u001b[0;34m)\u001b[0m\u001b[0;34m\u001b[0m\u001b[0;34m\u001b[0m\u001b[0m\n\u001b[0m\u001b[1;32m   1783\u001b[0m                 \u001b[0;31m# We don't need to worry about locking here, because we've\u001b[0m\u001b[0;34m\u001b[0m\u001b[0;34m\u001b[0m\u001b[0;34m\u001b[0m\u001b[0m\n\u001b[1;32m   1784\u001b[0m                 \u001b[0;31m# either called loop_forever() when in single threaded mode, or\u001b[0m\u001b[0;34m\u001b[0m\u001b[0;34m\u001b[0m\u001b[0;34m\u001b[0m\u001b[0m\n",
            "\u001b[0;32m/usr/local/lib/python3.6/dist-packages/paho/mqtt/client.py\u001b[0m in \u001b[0;36mloop\u001b[0;34m(self, timeout, max_packets)\u001b[0m\n\u001b[1;32m   1161\u001b[0m         \u001b[0mrlist\u001b[0m \u001b[0;34m=\u001b[0m \u001b[0;34m[\u001b[0m\u001b[0mself\u001b[0m\u001b[0;34m.\u001b[0m\u001b[0m_sock\u001b[0m\u001b[0;34m,\u001b[0m \u001b[0mself\u001b[0m\u001b[0;34m.\u001b[0m\u001b[0m_sockpairR\u001b[0m\u001b[0;34m]\u001b[0m\u001b[0;34m\u001b[0m\u001b[0;34m\u001b[0m\u001b[0m\n\u001b[1;32m   1162\u001b[0m         \u001b[0;32mtry\u001b[0m\u001b[0;34m:\u001b[0m\u001b[0;34m\u001b[0m\u001b[0;34m\u001b[0m\u001b[0m\n\u001b[0;32m-> 1163\u001b[0;31m             \u001b[0msocklist\u001b[0m \u001b[0;34m=\u001b[0m \u001b[0mselect\u001b[0m\u001b[0;34m.\u001b[0m\u001b[0mselect\u001b[0m\u001b[0;34m(\u001b[0m\u001b[0mrlist\u001b[0m\u001b[0;34m,\u001b[0m \u001b[0mwlist\u001b[0m\u001b[0;34m,\u001b[0m \u001b[0;34m[\u001b[0m\u001b[0;34m]\u001b[0m\u001b[0;34m,\u001b[0m \u001b[0mtimeout\u001b[0m\u001b[0;34m)\u001b[0m\u001b[0;34m\u001b[0m\u001b[0;34m\u001b[0m\u001b[0m\n\u001b[0m\u001b[1;32m   1164\u001b[0m         \u001b[0;32mexcept\u001b[0m \u001b[0mTypeError\u001b[0m\u001b[0;34m:\u001b[0m\u001b[0;34m\u001b[0m\u001b[0;34m\u001b[0m\u001b[0m\n\u001b[1;32m   1165\u001b[0m             \u001b[0;31m# Socket isn't correct type, in likelihood connection is lost\u001b[0m\u001b[0;34m\u001b[0m\u001b[0;34m\u001b[0m\u001b[0;34m\u001b[0m\u001b[0m\n",
            "\u001b[0;31mKeyboardInterrupt\u001b[0m: "
          ]
        }
      ]
    },
    {
      "cell_type": "code",
      "metadata": {
        "id": "LV0DZXmx05T8",
        "colab_type": "code",
        "colab": {
          "base_uri": "https://localhost:8080/",
          "height": 136
        },
        "outputId": "d95567f0-e1a9-44b1-97d6-f9c08a8aae51"
      },
      "source": [
        "res_arr"
      ],
      "execution_count": 120,
      "outputs": [
        {
          "output_type": "execute_result",
          "data": {
            "text/plain": [
              "['2020-08-01T13:25:10Z',\n",
              " '2020-08-01T13:25:10Z',\n",
              " '2020-08-01T13:25:11Z',\n",
              " '2020-08-01T13:25:12Z',\n",
              " '2020-08-01T13:25:12Z',\n",
              " '2020-08-01T13:25:14Z',\n",
              " '2020-08-01T13:25:14Z']"
            ]
          },
          "metadata": {
            "tags": []
          },
          "execution_count": 120
        }
      ]
    },
    {
      "cell_type": "code",
      "metadata": {
        "id": "r5FoVAh_tq6j",
        "colab_type": "code",
        "colab": {
          "base_uri": "https://localhost:8080/",
          "height": 156
        },
        "outputId": "087eb88e-b334-464d-80e1-4d492e34d93c"
      },
      "source": [
        "url_arr = []\n",
        "for ts in res_arr:\n",
        "  s_url = get_meraki_snapshots(API_KEY, NET_ID, ts)\n",
        "  url_arr.append(s_url)"
      ],
      "execution_count": 122,
      "outputs": [
        {
          "output_type": "stream",
          "text": [
            "{'url': 'https://spn18.meraki.com/stream/jpeg/snapshot/6e42acfa5b6666c9VHOGVlYmE5OTgxZTc1MmRhZDgxZDA2MGJhNzE0NTBiY2NkNzQwZTg4OWNmZDYzODMxYjhiMmM0ZjE3MTBhOWJjZbD1Saz92c1PSp2FBinzKxMnLxaTnc049p4SUp5LM5EklRJnVpH4G3Tnc-VbiHTx29jjcLlfu_WO2kaxjD2LMv9QLhQgSwNURiD0uu717p8xrdLhy9thpb8B68trVbBFkfrts10T0P96b92nHRBrrZ9I62hpeH45fuS03tDUWGcvc-UbuRx6aL9B_FGvB2rBK4u6oH_j3aEwXcDvuZoz8k2PRM8kzwWQniNyQz0rXs7E', 'expiry': 'Access to the image will expire at 2020-08-01T07:26:47-07:00'}\n",
            "{'url': 'https://spn18.meraki.com/stream/jpeg/snapshot/6e42acfa5b6666c9VHYTY2YWFjYTQ0OWMwZGEzMmZlOTkwNzZiZTI0MzQ3ZjcwNWU4YTU3N2E2YTBmZTYyZjhkM2JmZTYyMzM4ODFhOKzUlsZNGt_F9JB7cfko7u979q4RPrWfN-0GsknBviXTimPjQuwJdhYJRavBpnN1ZXZ7e_6RNb-T_Qq-VEk5KE9s0UPddSjBYUaYw5uTinnd7WocEB9WRseh0Ikgtl6FilIFP_jU7orM2Ni4U5Ylb7fTr01dNJKZy96G-0QQgV08XhTNgAK3IjChJKtOzvlu7IN2_AIb1xr0PNrTOESwhStEK2MfWo1Y2roX7jUb02qx', 'expiry': 'Access to the image will expire at 2020-08-01T07:26:48-07:00'}\n",
            "{'url': 'https://spn18.meraki.com/stream/jpeg/snapshot/6e42acfa5b6666c9VHNjcxNjJlNzM1NGNhZWNiOTEyNzQ1NTA5ZjMzMjc2ZmEzMzU5NGZmYTlkYjViNTBkYzljYmJhMTE5YTYxOTk5Zp_tKRAzTLjiv217NetoztodCQaq2zQggz03sJhVzEbMTiEZ4D19XLwUEyn0jxEI5CDXIxXJHoWm3zwlHWdCy8xn7U-iWypr0HpgZkvMnlwK8-80DrflpLMXhsX1X_bax-Bc_pYHmpFFHrq7mUwuY5YuPIvG4x7bkW528OSXdBZRPiLGPC7hQZ-ZkqUxL9XfJsfqpNpu4-o59d42tVi45SVtwKyPbUFartPtKTL5GGns', 'expiry': 'Access to the image will expire at 2020-08-01T07:26:50-07:00'}\n",
            "{'url': 'https://spn18.meraki.com/stream/jpeg/snapshot/6e42acfa5b6666c9VHZTY0M2VhYzVkNjk0OTFjMmUwNmEwNDYxNGYzNjE1YjgyYzFlMGE5NjI0NmM4OWMzOTdlNDRhM2NkZmQ3Y2E1ZWhTJRUuswZ2YBe6PbAYk0MZE4dclTVS56rzOWXl4CRucf6iXpefkWMKwZvmgC3hSQganhdlF2aIkuqGRWft3nanogS863ShQptnv82RWgyZ186fX31zBYNBQ3LIAp187eV2Rhk602lfl5YBm6Tf8xT14HNSntpn-Fx6wGFL_-IBqdw_BCg-kF0yVTNh2GZ-aSZYRTMmmGY6H7cyCF_2jQ-NmEzL2rK_rbNyJBvQwWaz', 'expiry': 'Access to the image will expire at 2020-08-01T07:26:51-07:00'}\n",
            "{'url': 'https://spn18.meraki.com/stream/jpeg/snapshot/6e42acfa5b6666c9VHNjMyMTU2NjhmNWI3MjYxNDIzOWNjMDgwZGE3ZDYzMjA5ZTMzNTVlM2ZlYjM3NWE3NjMwODc5ZWE5NWM5NjkzZA1e4t93QIPKMa5gQiGuZJe_Voktx4jo8QpdnmqscL1s74HjxZBqszU5ZznGBAEOqWkegz66NFy8TdCO-wbz5jPjyqzZi8zSVtaHRDUkJu5takVb6doLCwa0oY1SAe_44ftTW7_ldzynhWYqkTCicKhl1PBGY5F0Jt5raCmUs3iUJ2PBhLTJHAWCvUvA2pQU3fC3TjhY3OfvUw12XmaKgxAAe2c3KrPhCmso9fZYaykd', 'expiry': 'Access to the image will expire at 2020-08-01T07:26:52-07:00'}\n",
            "{'url': 'https://spn18.meraki.com/stream/jpeg/snapshot/6e42acfa5b6666c9VHZGZjYmE2NGJhNTJkNTllOWEyYmY1Zjk5Yzk2MjkxMDk5NzVhMDhlNjA4YmRjNDhlNDg4NmYyMzE5YTQ2NDFhNOAfsxiTn5z0vSwo-pBR_8QGGW60t6ZFT6zV6LJ0X8KXWcBGJEEWC-tSOx68zOn72PQiHFOlN55QUr9DQUgNlbiLdkymVVA5IaI-2KkasuL-yMf5Zbl2tPzqK1TNxQdKTWtt6PIbJ6MdosHQHxorDzFSKO-zfVGZZlItVHAIwG28mkGnOCWvWNIW7TB7EGKsTIH0zLt4KZocIX5TopbW1-op7x24kbL3SIsM02Buhz7Y', 'expiry': 'Access to the image will expire at 2020-08-01T07:26:53-07:00'}\n",
            "{'url': 'https://spn18.meraki.com/stream/jpeg/snapshot/6e42acfa5b6666c9VHM2QzNDI2YzdhYWI4MjMwZWNiNzllNTE4OTVjNWFkZjlhY2M2MDc1NjI1ZDBlNjg1MjFkZjA5YjRlYTlmY2I0ZoheV5tisogjqa0TiQMmvVqz8XkndripewKnrtZ1MjJfK54BliKl7mVbEjLdc3vVwyuw1ZUUjKllv92jSovZ4BfzoNxqfeeuGdtjVHwUzTLlfVnN9GV6KMSq69ITrtrOiVwCA_l0OwT90IMlbGse6I7hs3iYQeN_DB5JEPOKS3-5ddx3RqHkwSlXywkq04QQmeDzN7SXeVSVfxnsrD4Dfr45lfSJXJ3z0z6Spm7R7ZC8', 'expiry': 'Access to the image will expire at 2020-08-01T07:26:54-07:00'}\n"
          ],
          "name": "stdout"
        }
      ]
    },
    {
      "cell_type": "code",
      "metadata": {
        "id": "PC4BqrkyTezJ",
        "colab_type": "code",
        "colab": {
          "base_uri": "https://localhost:8080/",
          "height": 35
        },
        "outputId": "b0119643-a6ca-4748-d1b7-70697d3d36d0"
      },
      "source": [
        "iso(1596282058612)\n",
        "#2020-08-01T11:40:58Z"
      ],
      "execution_count": 82,
      "outputs": [
        {
          "output_type": "execute_result",
          "data": {
            "application/vnd.google.colaboratory.intrinsic+json": {
              "type": "string"
            },
            "text/plain": [
              "'2020-08-01T11:40:58Z'"
            ]
          },
          "metadata": {
            "tags": []
          },
          "execution_count": 82
        }
      ]
    },
    {
      "cell_type": "code",
      "metadata": {
        "id": "vL1qBSWSsrl1",
        "colab_type": "code",
        "colab": {
          "base_uri": "https://localhost:8080/",
          "height": 55
        },
        "outputId": "e3472bc4-60dd-47e5-a58a-1c48b3693c15"
      },
      "source": [
        "!curl -L -H 'X-Cisco-Meraki-API-Key: e4edb0ff642754d2b1f7146967edb38b34b3e49c' -X POST 'https://api.meraki.com/api/v0/networks/N_711005791171205780/cameras/Q2JV-BY67-ABC8/snapshot'"
      ],
      "execution_count": null,
      "outputs": [
        {
          "output_type": "stream",
          "text": [
            "{\"url\":\"https://spn18.meraki.com/stream/jpeg/snapshot/6e42acfa5b6666c9VHMDkwNjQzNWM3MWYzNWYzZjUxY2RkZjVmMjZkMjE5ZDlmOWQzNzA3ZGIxOGY0NjY5NjJjYjllYmNhMmM5MTQxNkctfyJg2ciOd28Qvi1Ny-DQL5GmqLyutZH0i4WrTwAi9RZW0YGAyvBhcuYGMqL39ylJyh32mmq5bDkHTvvqUFsjIWz8hb3okbaww--T7tTzRXnIK0gTar1RvWUqbXXeGN9KXERAgJc_WVSDYuo01fuOUwvpf4cIZJOmtXtV1hlLIDPQbqqIMJn6x8oqNrwPAu4CbixYfe03aLZWOvatqHM\",\"expiry\":\"Access to the image will expire at 2020-08-01T06:58:07-07:00\"}"
          ],
          "name": "stdout"
        }
      ]
    },
    {
      "cell_type": "code",
      "metadata": {
        "id": "KCsNfPY-GQ4F",
        "colab_type": "code",
        "colab": {}
      },
      "source": [
        ""
      ],
      "execution_count": null,
      "outputs": []
    }
  ]
}