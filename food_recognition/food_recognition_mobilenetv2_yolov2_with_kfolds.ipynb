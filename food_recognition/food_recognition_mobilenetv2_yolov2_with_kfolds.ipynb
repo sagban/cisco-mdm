{
  "nbformat": 4,
  "nbformat_minor": 0,
  "metadata": {
    "kernelspec": {
      "name": "python3",
      "display_name": "Python 3",
      "language": "python"
    },
    "language_info": {
      "name": "python",
      "version": "3.7.6",
      "mimetype": "text/x-python",
      "codemirror_mode": {
        "name": "ipython",
        "version": 3
      },
      "pygments_lexer": "ipython3",
      "nbconvert_exporter": "python",
      "file_extension": ".py"
    },
    "colab": {
      "name": "food-recognition-mobilenetv2-yolov2.ipynb",
      "provenance": [],
      "collapsed_sections": []
    }
  },
  "cells": [
    {
      "cell_type": "code",
      "metadata": {
        "_uuid": "8f2839f25d086af736a60e9eeb907d3b93b6e0e5",
        "_cell_guid": "b1076dfc-b9ad-4769-8c92-a6c4dae69d19",
        "trusted": true,
        "id": "fhg5MnwoseJt",
        "colab_type": "code",
        "colab": {
          "base_uri": "https://localhost:8080/",
          "height": 34
        },
        "outputId": "39f74521-c77a-43b8-c1f0-91f7756a1dba"
      },
      "source": [
        "# This Python 3 environment comes with many helpful analytics libraries installed\n",
        "# It is defined by the kaggle/python Docker image: https://github.com/kaggle/docker-python\n",
        "# For example, here's several helpful packages to load\n",
        "\n",
        "# import numpy as np # linear algebra\n",
        "# import pandas as pd # data processing, CSV file I/O (e.g. pd.read_csv)\n",
        "\n",
        "# Input data files are available in the read-only \"../input/\" directory\n",
        "# For example, running this (by clicking run or pressing Shift+Enter) will list all files under the input directory\n",
        "\n",
        "# import os\n",
        "# for dirname, _, filenames in os.walk('/kaggle/input/fooddataset'):\n",
        "#     for filename in filenames:\n",
        "#         print(os.path.join(dirname, filename))\n",
        "\n",
        "# You can write up to 5GB to the current directory (/kaggle/working/) that gets preserved as output when you create a version using \"Save & Run All\" \n",
        "# You can also write temporary files to /kaggle/temp/, but they won't be saved outside of the current session\n",
        "from google.colab import drive\n",
        "drive.mount('/content/drive', force_remount=True)"
      ],
      "execution_count": 10,
      "outputs": [
        {
          "output_type": "stream",
          "text": [
            "Mounted at /content/drive\n"
          ],
          "name": "stdout"
        }
      ]
    },
    {
      "cell_type": "code",
      "metadata": {
        "_uuid": "d629ff2d2480ee46fbb7e2d37f6b5fab8052498a",
        "_cell_guid": "79c7e3d0-c299-4dcb-8224-4455121ee9b0",
        "trusted": true,
        "id": "-YKmaepAseJy",
        "colab_type": "code",
        "colab": {
          "base_uri": "https://localhost:8080/",
          "height": 34
        },
        "outputId": "e411eb93-e9ad-4fd0-c104-2b5ce991e246"
      },
      "source": [
        "import os\n",
        "import sys\n",
        "import shutil\n",
        "from PIL import Image\n",
        "from lxml import etree as ET\n",
        "from tqdm import tqdm\n",
        "from copy import deepcopy\n",
        "import tensorflow as tf\n",
        "import numpy as np\n",
        "import cv2\n",
        "%pylab inline\n",
        "import matplotlib.pyplot as plt\n",
        "import matplotlib.image as mpimg\n",
        "from imgaug import augmenters as iaa"
      ],
      "execution_count": 2,
      "outputs": [
        {
          "output_type": "stream",
          "text": [
            "Populating the interactive namespace from numpy and matplotlib\n"
          ],
          "name": "stdout"
        }
      ]
    },
    {
      "cell_type": "code",
      "metadata": {
        "trusted": true,
        "id": "vNkgwhNsseJ2",
        "colab_type": "code",
        "colab": {
          "base_uri": "https://localhost:8080/",
          "height": 34
        },
        "outputId": "e615e44f-5359-4d3a-c83b-9911fb34ef7f"
      },
      "source": [
        "print(os.getcwd())"
      ],
      "execution_count": 3,
      "outputs": [
        {
          "output_type": "stream",
          "text": [
            "/content\n"
          ],
          "name": "stdout"
        }
      ]
    },
    {
      "cell_type": "code",
      "metadata": {
        "trusted": true,
        "id": "Rq0jo-D1seJ8",
        "colab_type": "code",
        "colab": {
          "base_uri": "https://localhost:8080/",
          "height": 34
        },
        "outputId": "492f7965-805b-422e-c893-ce28fefee930"
      },
      "source": [
        "# print(os.listdir('/kaggle/input/')) \n",
        "print(tf.__version__)"
      ],
      "execution_count": 4,
      "outputs": [
        {
          "output_type": "stream",
          "text": [
            "2.2.0\n"
          ],
          "name": "stdout"
        }
      ]
    },
    {
      "cell_type": "code",
      "metadata": {
        "trusted": true,
        "id": "pcyUz76AseJ_",
        "colab_type": "code",
        "colab": {}
      },
      "source": [
        "# import keras\n",
        "# from keras import layers\n",
        "# from keras.layers import Input, Dense, Reshape, Lambda, Dropout, LeakyReLU, Activation, Flatten\n",
        "# from keras.layers import Conv2D, MaxPooling2D, GlobalMaxPooling2D, ZeroPadding2D, AveragePooling2D, GlobalAveragePooling2D, BatchNormalization\n",
        "# from keras.models import Model\n",
        "# from keras.preprocessing import image\n",
        "# import keras.backend as K\n",
        "# # from keras.utils import layer_utils\n",
        "# from keras.utils import Sequence\n",
        "# # from keras.utils.data_utils import get_file\n",
        "# from keras.applications.imagenet_utils import decode_predictions\n",
        "# from keras.applications.imagenet_utils import preprocess_input\n",
        "# # from tensorflow.keras_applications.imagenet_utils import _obtain_input_shape\n",
        "# # from keras.engine.topology import get_source_inputs\n",
        "# from keras.optimizers import Adam\n",
        "# from keras.callbacks import EarlyStopping, ModelCheckpoint, TensorBoard\n",
        "from tensorflow import keras\n",
        "from tensorflow.keras import layers\n",
        "from tensorflow.keras.layers import InputLayer, Dense, Reshape, Lambda, Dropout, LeakyReLU, Activation, Flatten\n",
        "from tensorflow.keras.layers import Conv2D, MaxPooling2D, GlobalMaxPooling2D, ZeroPadding2D, AveragePooling2D, GlobalAveragePooling2D, BatchNormalization\n",
        "from tensorflow.keras.models import Model\n",
        "from tensorflow.keras.preprocessing import image\n",
        "import tensorflow.keras.backend as K\n",
        "# from keras.utils import layer_utils\n",
        "from tensorflow.keras.utils import Sequence\n",
        "# from keras.utils.data_utils import get_file\n",
        "from tensorflow.keras.applications.imagenet_utils import decode_predictions\n",
        "from tensorflow.keras.applications.imagenet_utils import preprocess_input\n",
        "# from tensorflow.keras_applications.imagenet_utils import _obtain_input_shape\n",
        "# from keras.engine.topology import get_source_inputs\n",
        "from tensorflow.keras.optimizers import Adam\n",
        "from tensorflow.keras.callbacks import EarlyStopping, ModelCheckpoint, TensorBoard"
      ],
      "execution_count": 5,
      "outputs": []
    },
    {
      "cell_type": "code",
      "metadata": {
        "trusted": true,
        "id": "oGjH2lMLseKB",
        "colab_type": "code",
        "colab": {
          "base_uri": "https://localhost:8080/",
          "height": 34
        },
        "outputId": "e77649f7-d927-444b-f114-6ee505afc119"
      },
      "source": [
        "print(keras.__version__)"
      ],
      "execution_count": 6,
      "outputs": [
        {
          "output_type": "stream",
          "text": [
            "2.3.0-tf\n"
          ],
          "name": "stdout"
        }
      ]
    },
    {
      "cell_type": "code",
      "metadata": {
        "trusted": true,
        "id": "FbVospnhseKE",
        "colab_type": "code",
        "colab": {
          "base_uri": "https://localhost:8080/",
          "height": 84
        },
        "outputId": "dceea105-9aee-4b5c-ca48-3ca97d2f7c59"
      },
      "source": [
        "print(\"Num GPUs Available: \", len(tf.config.experimental.list_physical_devices('GPU')))\n",
        "config = tf.compat.v1.ConfigProto()\n",
        "config.gpu_options.allow_growth = True\n",
        "config.log_device_placement = True\n",
        "Sess = tf.compat.v1.Session(config=config)\n",
        "tf.compat.v1.keras.backend.set_session(Sess)"
      ],
      "execution_count": 7,
      "outputs": [
        {
          "output_type": "stream",
          "text": [
            "Num GPUs Available:  0\n",
            "Device mapping:\n",
            "/job:localhost/replica:0/task:0/device:XLA_CPU:0 -> device: XLA_CPU device\n",
            "\n"
          ],
          "name": "stdout"
        }
      ]
    },
    {
      "cell_type": "markdown",
      "metadata": {
        "id": "fdq5w-29seKI",
        "colab_type": "text"
      },
      "source": [
        "# Parameters"
      ]
    },
    {
      "cell_type": "code",
      "metadata": {
        "trusted": true,
        "id": "NAOdXBJ1seKI",
        "colab_type": "code",
        "colab": {}
      },
      "source": [
        "BASE_PATH = '/content/drive/My Drive/food-detection/' #'/kaggle/input/' \n",
        "LABELS = ['rice', 'roti', 'dal', 'sabzi']\n",
        " \n",
        "IMAGE_H = 224\n",
        "IMAGE_W = 224 # must equal to GRID_H * 32  416, 416\n",
        "GRID_H, GRID_W = 7, 7        # 13, 13\n",
        "N_BOX = 5\n",
        "CLASS = len(LABELS)\n",
        "CLASS_WEIGHTS = np.ones(4, dtype='float32')\n",
        "OBJ_THRESHOLD = 0.3\n",
        "NMS_THRESHOLD = 0.3\n",
        " \n",
        "NO_OBJECT_SCALE = 1.0\n",
        "OBJECT_SCALE = 5.0\n",
        "COORD_SCALE = 1.0\n",
        "CLASS_SCALE = 1.0\n",
        " \n",
        "BATCH_SIZE = 64\n",
        "WARM_UP_BATCHES = 0\n",
        "TRUE_BOX_BUFFER = 50\n",
        "LAMBDA_NO_OBJECT = 1.0\n",
        "LAMBDA_OBJECT    = 5.0\n",
        "LAMBDA_COORD     = 1.0\n",
        "LAMBDA_CLASS     = 1.0"
      ],
      "execution_count": 8,
      "outputs": []
    },
    {
      "cell_type": "code",
      "metadata": {
        "trusted": true,
        "id": "vkgb8fTeseKL",
        "colab_type": "code",
        "colab": {
          "base_uri": "https://localhost:8080/",
          "height": 34
        },
        "outputId": "700e4d59-5d46-48bd-f7fa-4b5bd8cc7822"
      },
      "source": [
        "ANCHORS = []\n",
        "with open( BASE_PATH + 'Dataset/generated_anchors_mobilenet/anchors_5.txt', 'r') as anchor_file:\n",
        "    for i, line in enumerate(anchor_file):\n",
        "        line = line.rstrip('\\n')\n",
        "        ANCHORS.append(list(map(float, line.split(', '))))\n",
        "ANCHORS = list(list(np.array(ANCHORS).reshape(1, -1))[0])\n",
        "print(ANCHORS)"
      ],
      "execution_count": 11,
      "outputs": [
        {
          "output_type": "stream",
          "text": [
            "[1.87, 1.85, 2.49, 3.02, 4.33, 2.47, 4.42, 4.48, 6.16, 5.72]\n"
          ],
          "name": "stdout"
        }
      ]
    },
    {
      "cell_type": "code",
      "metadata": {
        "trusted": true,
        "id": "CNjTwIFBseKO",
        "colab_type": "code",
        "colab": {}
      },
      "source": [
        "generator_config = {\n",
        "    'IMAGE_H': IMAGE_H,\n",
        "    'IMAGE_W': IMAGE_W,\n",
        "    'GRID_H': GRID_H,\n",
        "    'GRID_W': GRID_W,\n",
        "    'BOX': N_BOX,\n",
        "    'LABELS': LABELS,\n",
        "    'CLASS': len(LABELS),\n",
        "    'ANCHORS': ANCHORS,\n",
        "    'BATCH_SIZE': BATCH_SIZE,\n",
        "    'TRUE_BOX_BUFFER': TRUE_BOX_BUFFER,\n",
        "}"
      ],
      "execution_count": 12,
      "outputs": []
    },
    {
      "cell_type": "markdown",
      "metadata": {
        "id": "AWHZePQKseKQ",
        "colab_type": "text"
      },
      "source": [
        "# Input Layers"
      ]
    },
    {
      "cell_type": "code",
      "metadata": {
        "trusted": true,
        "id": "0iv1r3qlseKR",
        "colab_type": "code",
        "colab": {}
      },
      "source": [
        ""
      ],
      "execution_count": 12,
      "outputs": []
    },
    {
      "cell_type": "markdown",
      "metadata": {
        "id": "Dt_cVgqIseKU",
        "colab_type": "text"
      },
      "source": [
        "# Utils Functions"
      ]
    },
    {
      "cell_type": "code",
      "metadata": {
        "trusted": true,
        "id": "aznCiQxkseKU",
        "colab_type": "code",
        "colab": {}
      },
      "source": [
        "# Normalizing the image\n",
        "def normalize(image):\n",
        "    return image / 255."
      ],
      "execution_count": 13,
      "outputs": []
    },
    {
      "cell_type": "code",
      "metadata": {
        "trusted": true,
        "id": "Cp-9_7SFseKX",
        "colab_type": "code",
        "colab": {}
      },
      "source": [
        "# the function to implement the orgnization layer (thanks to github.com/allanzelener/YAD2K)\n",
        "# def space_to_depth_x2(x):\n",
        "#     return tf.nn.space_to_depth(x, block_size=2)"
      ],
      "execution_count": 14,
      "outputs": []
    },
    {
      "cell_type": "code",
      "metadata": {
        "trusted": true,
        "id": "0h1eVcLKseKZ",
        "colab_type": "code",
        "colab": {
          "base_uri": "https://localhost:8080/",
          "height": 137
        },
        "outputId": "a6221477-7793-4607-b12a-b913e06dca8f"
      },
      "source": [
        "def get_model():\n",
        "    \"\"\" Build MobileNetV2 model \"\"\"\n",
        "    print('=> Building MobileNetV2 model...')\n",
        "    input_image = tf.keras.Input(shape=(IMAGE_H, IMAGE_W, 3), name=\"input_image\")\n",
        "    true_boxes= tf.keras.Input(shape=(1, 1, 1, TRUE_BOX_BUFFER, 4), name=\"input_hack\")\n",
        "    mobilenet = tf.keras.applications.mobilenet_v2.MobileNetV2(weights=\"imagenet\",include_top=False,\n",
        "                                       input_shape=(224,224,3))\n",
        "    for i, layer in enumerate(mobilenet.layers):\n",
        "        layer.trainable=False\n",
        "    #   print(i, layer.name)\n",
        "    x = mobilenet(input_image)\n",
        "    x = Conv2D(N_BOX * (4 + 1 + CLASS), (1, 1), strides=(1, 1), padding='same', name='conv_23')(x)\n",
        "    output = Reshape((GRID_H, GRID_W, N_BOX, 4 + 1 + CLASS))(x)\n",
        "\n",
        "    # small hack to allow true_boxes to be registered when Keras build the model\n",
        "    # for more information: https://github.com/fchollet/keras/issues/2790\n",
        "    output = Lambda(lambda args: args[0])([output, true_boxes])\n",
        "\n",
        "    model = Model([input_image, true_boxes], output)\n",
        "    print(\"=> Model Summary\")\n",
        "    print(model.summary())\n",
        "    return (model, true_boxes)\n",
        "'''\n",
        "def get_model():\n",
        "    input_image = Input(shape=(IMAGE_H, IMAGE_W, 3), name=\"input_image\")\n",
        "    true_boxes= Input(shape=(1, 1, 1, TRUE_BOX_BUFFER, 4), name=\"input_hack\")\n",
        "    # Layer 1\n",
        "    x = Conv2D(32, (3,3), strides=(1,1), padding='same', name='conv_1', use_bias=False)(input_image)\n",
        "    x = BatchNormalization(name='norm_1')(x)\n",
        "    x = LeakyReLU(alpha=0.1)(x)\n",
        "    x = MaxPooling2D(pool_size=(2, 2))(x)\n",
        "\n",
        "    # Layer 2\n",
        "    x = Conv2D(64, (3,3), strides=(1,1), padding='same', name='conv_2', use_bias=False)(x)\n",
        "    x = BatchNormalization(name='norm_2')(x)\n",
        "    x = LeakyReLU(alpha=0.1)(x)\n",
        "    x = MaxPooling2D(pool_size=(2, 2))(x)\n",
        "\n",
        "    # Layer 3\n",
        "    x = Conv2D(128, (3,3), strides=(1,1), padding='same', name='conv_3', use_bias=False)(x)\n",
        "    x = BatchNormalization(name='norm_3')(x)\n",
        "    x = LeakyReLU(alpha=0.1)(x)\n",
        "\n",
        "    # Layer 4\n",
        "    x = Conv2D(64, (1,1), strides=(1,1), padding='same', name='conv_4', use_bias=False)(x)\n",
        "    x = BatchNormalization(name='norm_4')(x)\n",
        "    x = LeakyReLU(alpha=0.1)(x)\n",
        "\n",
        "    # Layer 5\n",
        "    x = Conv2D(128, (3,3), strides=(1,1), padding='same', name='conv_5', use_bias=False)(x)\n",
        "    x = BatchNormalization(name='norm_5')(x)\n",
        "    x = LeakyReLU(alpha=0.1)(x)\n",
        "    x = MaxPooling2D(pool_size=(2, 2))(x)\n",
        "\n",
        "    # Layer 6\n",
        "    x = Conv2D(256, (3,3), strides=(1,1), padding='same', name='conv_6', use_bias=False)(x)\n",
        "    x = BatchNormalization(name='norm_6')(x)\n",
        "    x = LeakyReLU(alpha=0.1)(x)\n",
        "\n",
        "    # Layer 7\n",
        "    x = Conv2D(128, (1,1), strides=(1,1), padding='same', name='conv_7', use_bias=False)(x)\n",
        "    x = BatchNormalization(name='norm_7')(x)\n",
        "    x = LeakyReLU(alpha=0.1)(x)\n",
        "\n",
        "    # Layer 8\n",
        "    x = Conv2D(256, (3,3), strides=(1,1), padding='same', name='conv_8', use_bias=False)(x)\n",
        "    x = BatchNormalization(name='norm_8')(x)\n",
        "    x = LeakyReLU(alpha=0.1)(x)\n",
        "    x = MaxPooling2D(pool_size=(2, 2))(x)\n",
        "\n",
        "    # Layer 9\n",
        "    x = Conv2D(512, (3,3), strides=(1,1), padding='same', name='conv_9', use_bias=False)(x)\n",
        "    x = BatchNormalization(name='norm_9')(x)\n",
        "    x = LeakyReLU(alpha=0.1)(x)\n",
        "\n",
        "    # Layer 10\n",
        "    x = Conv2D(256, (1,1), strides=(1,1), padding='same', name='conv_10', use_bias=False)(x)\n",
        "    x = BatchNormalization(name='norm_10')(x)\n",
        "    x = LeakyReLU(alpha=0.1)(x)\n",
        "\n",
        "    # Layer 11\n",
        "    x = Conv2D(512, (3,3), strides=(1,1), padding='same', name='conv_11', use_bias=False)(x)\n",
        "    x = BatchNormalization(name='norm_11')(x)\n",
        "    x = LeakyReLU(alpha=0.1)(x)\n",
        "\n",
        "    # Layer 12\n",
        "    x = Conv2D(256, (1,1), strides=(1,1), padding='same', name='conv_12', use_bias=False)(x)\n",
        "    x = BatchNormalization(name='norm_12')(x)\n",
        "    x = LeakyReLU(alpha=0.1)(x)\n",
        "\n",
        "    # Layer 13\n",
        "    x = Conv2D(512, (3,3), strides=(1,1), padding='same', name='conv_13', use_bias=False)(x)\n",
        "    x = BatchNormalization(name='norm_13')(x)\n",
        "    x = LeakyReLU(alpha=0.1)(x)\n",
        "\n",
        "    skip_connection = x\n",
        "\n",
        "    x = MaxPooling2D(pool_size=(2, 2))(x)\n",
        "\n",
        "    # Layer 14\n",
        "    x = Conv2D(1024, (3,3), strides=(1,1), padding='same', name='conv_14', use_bias=False)(x)\n",
        "    x = BatchNormalization(name='norm_14')(x)\n",
        "    x = LeakyReLU(alpha=0.1)(x)\n",
        "\n",
        "    # Layer 15\n",
        "    x = Conv2D(512, (1,1), strides=(1,1), padding='same', name='conv_15', use_bias=False)(x)\n",
        "    x = BatchNormalization(name='norm_15')(x)\n",
        "    x = LeakyReLU(alpha=0.1)(x)\n",
        "\n",
        "    # Layer 16\n",
        "    x = Conv2D(1024, (3,3), strides=(1,1), padding='same', name='conv_16', use_bias=False)(x)\n",
        "    x = BatchNormalization(name='norm_16')(x)\n",
        "    x = LeakyReLU(alpha=0.1)(x)\n",
        "\n",
        "    # Layer 17\n",
        "    x = Conv2D(512, (1,1), strides=(1,1), padding='same', name='conv_17', use_bias=False)(x)\n",
        "    x = BatchNormalization(name='norm_17')(x)\n",
        "    x = LeakyReLU(alpha=0.1)(x)\n",
        "\n",
        "    # Layer 18\n",
        "    x = Conv2D(1024, (3,3), strides=(1,1), padding='same', name='conv_18', use_bias=False)(x)\n",
        "    x = BatchNormalization(name='norm_18')(x)\n",
        "    x = LeakyReLU(alpha=0.1)(x)\n",
        "\n",
        "    # Layer 19\n",
        "    x = Conv2D(1024, (3,3), strides=(1,1), padding='same', name='conv_19', use_bias=False)(x)\n",
        "    x = BatchNormalization(name='norm_19')(x)\n",
        "    x = LeakyReLU(alpha=0.1)(x)\n",
        "\n",
        "    # Layer 20\n",
        "    x = Conv2D(1024, (3,3), strides=(1,1), padding='same', name='conv_20', use_bias=False)(x)\n",
        "    x = BatchNormalization(name='norm_20')(x)\n",
        "    x = LeakyReLU(alpha=0.1)(x)\n",
        "\n",
        "    # Layer 21\n",
        "    skip_connection = Conv2D(64, (1,1), strides=(1,1), padding='same', name='conv_21', use_bias=False)(skip_connection)\n",
        "    skip_connection = BatchNormalization(name='norm_21')(skip_connection)\n",
        "    skip_connection = LeakyReLU(alpha=0.1)(skip_connection)\n",
        "    skip_connection = Lambda(space_to_depth_x2)(skip_connection)\n",
        "    \n",
        "#     print(type(skip_connection))\n",
        "#     print(type(x))\n",
        "    # x = layers.Concatenate()([skip_connection, x])\n",
        "    x = tf.layers.layers.Concatenate()([skip_connection, x])\n",
        "\n",
        "    # Layer 22\n",
        "    x = Conv2D(1024, (3,3), strides=(1,1), padding='same', name='conv_22', use_bias=False)(x)\n",
        "    x = BatchNormalization(name='norm_22')(x)\n",
        "    x = LeakyReLU(alpha=0.1)(x)\n",
        "\n",
        "    # Layer 23\n",
        "    x = Conv2D(N_BOX * (4 + 1 + CLASS), (1,1), strides=(1,1), padding='same', name='conv_23')(x)\n",
        "    output = Reshape((GRID_H, GRID_W, N_BOX, 4 + 1 + CLASS))(x)\n",
        "\n",
        "    # small hack to allow true_boxes to be registered when Keras build the model \n",
        "    # for more information: https://github.com/fchollet/keras/issues/2790\n",
        "    output = Lambda(lambda args: args[0])([output, true_boxes])\n",
        "\n",
        "    model = Model([input_image, true_boxes], output)\n",
        "    print(\"=> Model Summary\")\n",
        "    print(model.summary())\n",
        "    return model, true_boxes\n",
        "'''\n"
      ],
      "execution_count": 15,
      "outputs": [
        {
          "output_type": "execute_result",
          "data": {
            "application/vnd.google.colaboratory.intrinsic+json": {
              "type": "string"
            },
            "text/plain": [
              "'\\ndef get_model():\\n    input_image = Input(shape=(IMAGE_H, IMAGE_W, 3), name=\"input_image\")\\n    true_boxes= Input(shape=(1, 1, 1, TRUE_BOX_BUFFER, 4), name=\"input_hack\")\\n    # Layer 1\\n    x = Conv2D(32, (3,3), strides=(1,1), padding=\\'same\\', name=\\'conv_1\\', use_bias=False)(input_image)\\n    x = BatchNormalization(name=\\'norm_1\\')(x)\\n    x = LeakyReLU(alpha=0.1)(x)\\n    x = MaxPooling2D(pool_size=(2, 2))(x)\\n\\n    # Layer 2\\n    x = Conv2D(64, (3,3), strides=(1,1), padding=\\'same\\', name=\\'conv_2\\', use_bias=False)(x)\\n    x = BatchNormalization(name=\\'norm_2\\')(x)\\n    x = LeakyReLU(alpha=0.1)(x)\\n    x = MaxPooling2D(pool_size=(2, 2))(x)\\n\\n    # Layer 3\\n    x = Conv2D(128, (3,3), strides=(1,1), padding=\\'same\\', name=\\'conv_3\\', use_bias=False)(x)\\n    x = BatchNormalization(name=\\'norm_3\\')(x)\\n    x = LeakyReLU(alpha=0.1)(x)\\n\\n    # Layer 4\\n    x = Conv2D(64, (1,1), strides=(1,1), padding=\\'same\\', name=\\'conv_4\\', use_bias=False)(x)\\n    x = BatchNormalization(name=\\'norm_4\\')(x)\\n    x = LeakyReLU(alpha=0.1)(x)\\n\\n    # Layer 5\\n    x = Conv2D(128, (3,3), strides=(1,1), padding=\\'same\\', name=\\'conv_5\\', use_bias=False)(x)\\n    x = BatchNormalization(name=\\'norm_5\\')(x)\\n    x = LeakyReLU(alpha=0.1)(x)\\n    x = MaxPooling2D(pool_size=(2, 2))(x)\\n\\n    # Layer 6\\n    x = Conv2D(256, (3,3), strides=(1,1), padding=\\'same\\', name=\\'conv_6\\', use_bias=False)(x)\\n    x = BatchNormalization(name=\\'norm_6\\')(x)\\n    x = LeakyReLU(alpha=0.1)(x)\\n\\n    # Layer 7\\n    x = Conv2D(128, (1,1), strides=(1,1), padding=\\'same\\', name=\\'conv_7\\', use_bias=False)(x)\\n    x = BatchNormalization(name=\\'norm_7\\')(x)\\n    x = LeakyReLU(alpha=0.1)(x)\\n\\n    # Layer 8\\n    x = Conv2D(256, (3,3), strides=(1,1), padding=\\'same\\', name=\\'conv_8\\', use_bias=False)(x)\\n    x = BatchNormalization(name=\\'norm_8\\')(x)\\n    x = LeakyReLU(alpha=0.1)(x)\\n    x = MaxPooling2D(pool_size=(2, 2))(x)\\n\\n    # Layer 9\\n    x = Conv2D(512, (3,3), strides=(1,1), padding=\\'same\\', name=\\'conv_9\\', use_bias=False)(x)\\n    x = BatchNormalization(name=\\'norm_9\\')(x)\\n    x = LeakyReLU(alpha=0.1)(x)\\n\\n    # Layer 10\\n    x = Conv2D(256, (1,1), strides=(1,1), padding=\\'same\\', name=\\'conv_10\\', use_bias=False)(x)\\n    x = BatchNormalization(name=\\'norm_10\\')(x)\\n    x = LeakyReLU(alpha=0.1)(x)\\n\\n    # Layer 11\\n    x = Conv2D(512, (3,3), strides=(1,1), padding=\\'same\\', name=\\'conv_11\\', use_bias=False)(x)\\n    x = BatchNormalization(name=\\'norm_11\\')(x)\\n    x = LeakyReLU(alpha=0.1)(x)\\n\\n    # Layer 12\\n    x = Conv2D(256, (1,1), strides=(1,1), padding=\\'same\\', name=\\'conv_12\\', use_bias=False)(x)\\n    x = BatchNormalization(name=\\'norm_12\\')(x)\\n    x = LeakyReLU(alpha=0.1)(x)\\n\\n    # Layer 13\\n    x = Conv2D(512, (3,3), strides=(1,1), padding=\\'same\\', name=\\'conv_13\\', use_bias=False)(x)\\n    x = BatchNormalization(name=\\'norm_13\\')(x)\\n    x = LeakyReLU(alpha=0.1)(x)\\n\\n    skip_connection = x\\n\\n    x = MaxPooling2D(pool_size=(2, 2))(x)\\n\\n    # Layer 14\\n    x = Conv2D(1024, (3,3), strides=(1,1), padding=\\'same\\', name=\\'conv_14\\', use_bias=False)(x)\\n    x = BatchNormalization(name=\\'norm_14\\')(x)\\n    x = LeakyReLU(alpha=0.1)(x)\\n\\n    # Layer 15\\n    x = Conv2D(512, (1,1), strides=(1,1), padding=\\'same\\', name=\\'conv_15\\', use_bias=False)(x)\\n    x = BatchNormalization(name=\\'norm_15\\')(x)\\n    x = LeakyReLU(alpha=0.1)(x)\\n\\n    # Layer 16\\n    x = Conv2D(1024, (3,3), strides=(1,1), padding=\\'same\\', name=\\'conv_16\\', use_bias=False)(x)\\n    x = BatchNormalization(name=\\'norm_16\\')(x)\\n    x = LeakyReLU(alpha=0.1)(x)\\n\\n    # Layer 17\\n    x = Conv2D(512, (1,1), strides=(1,1), padding=\\'same\\', name=\\'conv_17\\', use_bias=False)(x)\\n    x = BatchNormalization(name=\\'norm_17\\')(x)\\n    x = LeakyReLU(alpha=0.1)(x)\\n\\n    # Layer 18\\n    x = Conv2D(1024, (3,3), strides=(1,1), padding=\\'same\\', name=\\'conv_18\\', use_bias=False)(x)\\n    x = BatchNormalization(name=\\'norm_18\\')(x)\\n    x = LeakyReLU(alpha=0.1)(x)\\n\\n    # Layer 19\\n    x = Conv2D(1024, (3,3), strides=(1,1), padding=\\'same\\', name=\\'conv_19\\', use_bias=False)(x)\\n    x = BatchNormalization(name=\\'norm_19\\')(x)\\n    x = LeakyReLU(alpha=0.1)(x)\\n\\n    # Layer 20\\n    x = Conv2D(1024, (3,3), strides=(1,1), padding=\\'same\\', name=\\'conv_20\\', use_bias=False)(x)\\n    x = BatchNormalization(name=\\'norm_20\\')(x)\\n    x = LeakyReLU(alpha=0.1)(x)\\n\\n    # Layer 21\\n    skip_connection = Conv2D(64, (1,1), strides=(1,1), padding=\\'same\\', name=\\'conv_21\\', use_bias=False)(skip_connection)\\n    skip_connection = BatchNormalization(name=\\'norm_21\\')(skip_connection)\\n    skip_connection = LeakyReLU(alpha=0.1)(skip_connection)\\n    skip_connection = Lambda(space_to_depth_x2)(skip_connection)\\n    \\n#     print(type(skip_connection))\\n#     print(type(x))\\n    # x = layers.Concatenate()([skip_connection, x])\\n    x = tf.layers.layers.Concatenate()([skip_connection, x])\\n\\n    # Layer 22\\n    x = Conv2D(1024, (3,3), strides=(1,1), padding=\\'same\\', name=\\'conv_22\\', use_bias=False)(x)\\n    x = BatchNormalization(name=\\'norm_22\\')(x)\\n    x = LeakyReLU(alpha=0.1)(x)\\n\\n    # Layer 23\\n    x = Conv2D(N_BOX * (4 + 1 + CLASS), (1,1), strides=(1,1), padding=\\'same\\', name=\\'conv_23\\')(x)\\n    output = Reshape((GRID_H, GRID_W, N_BOX, 4 + 1 + CLASS))(x)\\n\\n    # small hack to allow true_boxes to be registered when Keras build the model \\n    # for more information: https://github.com/fchollet/keras/issues/2790\\n    output = Lambda(lambda args: args[0])([output, true_boxes])\\n\\n    model = Model([input_image, true_boxes], output)\\n    print(\"=> Model Summary\")\\n    print(model.summary())\\n    return model, true_boxes\\n'"
            ]
          },
          "metadata": {
            "tags": []
          },
          "execution_count": 15
        }
      ]
    },
    {
      "cell_type": "code",
      "metadata": {
        "trusted": true,
        "id": "y9CzX5-vseKb",
        "colab_type": "code",
        "colab": {}
      },
      "source": [
        "@tf.function\n",
        "def custom_loss(data, y_pred):\n",
        "    \n",
        "    y_true = data[...,0:9]\n",
        "    y_true_box = data[:,0:1,0:1,:,9:13]\n",
        "    # print(tf.shape(y_true))\n",
        "    # print(tf.shape(y_true_box))\n",
        "    # print(tf.shape(y_pred))\n",
        "    \n",
        "    mask_shape = tf.shape(y_true)[:4]\n",
        "    \n",
        "    cell_x = tf.compat.v1.to_float(tf.reshape(tf.tile(tf.range(GRID_W), [GRID_H]), (1, GRID_H, GRID_W, 1, 1)))\n",
        "    cell_y = tf.transpose(cell_x, (0,2,1,3,4))\n",
        "\n",
        "    cell_grid = tf.tile(tf.concat([cell_x,cell_y], -1), [BATCH_SIZE, 1, 1, N_BOX, 1])\n",
        "    \n",
        "    coord_mask = tf.zeros(mask_shape)\n",
        "    conf_mask  = tf.zeros(mask_shape)\n",
        "    class_mask = tf.zeros(mask_shape)\n",
        "    \n",
        "    seen = tf.Variable(0.)\n",
        "    total_recall = tf.Variable(0.)\n",
        "    \n",
        "    \"\"\"\n",
        "    Adjust prediction\n",
        "    \"\"\"\n",
        "    ### adjust x and y      \n",
        "    pred_box_xy = tf.sigmoid(y_pred[..., :2]) + cell_grid\n",
        "    ### adjust w and h\n",
        "    pred_box_wh = tf.exp(y_pred[..., 2:4]) * np.reshape(ANCHORS, [1,1,1,N_BOX,2])\n",
        "    \n",
        "    ### adjust confidence\n",
        "    pred_box_conf = tf.sigmoid(y_pred[..., 4])\n",
        "    \n",
        "    ### adjust class probabilities\n",
        "    pred_box_class = y_pred[..., 5:]\n",
        "    \n",
        "    \"\"\"\n",
        "    Adjust ground truth\n",
        "    \"\"\"\n",
        "    ### adjust x and y\n",
        "    true_box_xy = y_true[..., 0:2] # relative position to the containing cell\n",
        "    \n",
        "    ### adjust w and h\n",
        "    true_box_wh = y_true[..., 2:4] # number of cells accross, horizontally and vertically\n",
        "    \n",
        "    ### adjust confidence\n",
        "    true_wh_half = true_box_wh / 2.\n",
        "    true_mins    = true_box_xy - true_wh_half\n",
        "    true_maxes   = true_box_xy + true_wh_half\n",
        "    \n",
        "    pred_wh_half = pred_box_wh / 2.\n",
        "    pred_mins    = pred_box_xy - pred_wh_half\n",
        "    pred_maxes   = pred_box_xy + pred_wh_half       \n",
        "    \n",
        "    intersect_mins  = tf.maximum(pred_mins,  true_mins)\n",
        "    intersect_maxes = tf.minimum(pred_maxes, true_maxes)\n",
        "    intersect_wh    = tf.maximum(intersect_maxes - intersect_mins, 0.)\n",
        "    intersect_areas = intersect_wh[..., 0] * intersect_wh[..., 1]\n",
        "    \n",
        "    true_areas = true_box_wh[..., 0] * true_box_wh[..., 1]\n",
        "    pred_areas = pred_box_wh[..., 0] * pred_box_wh[..., 1]\n",
        "\n",
        "    union_areas = pred_areas + true_areas - intersect_areas\n",
        "    iou_scores  = tf.truediv(intersect_areas, union_areas)\n",
        "    \n",
        "    true_box_conf = iou_scores * y_true[..., 4]\n",
        "    \n",
        "    ### adjust class probabilities\n",
        "    true_box_class = tf.argmax(y_true[..., 5:], -1)\n",
        "    \n",
        "    \"\"\"\n",
        "    Determine the masks\n",
        "    \"\"\"\n",
        "    ### coordinate mask: simply the position of the ground truth boxes (the predictors)\n",
        "    coord_mask = tf.expand_dims(y_true[..., 4], axis=-1) * COORD_SCALE\n",
        "    \n",
        "    ### confidence mask: penelize predictors + penalize boxes with low IOU\n",
        "    # penalize the confidence of the boxes, which have IOU with some ground truth box < 0.6\n",
        "    \n",
        "    tx = y_true_box[..., 0:2]\n",
        "    tw = y_true_box[..., 2:4]\n",
        "    true_xy = tf.expand_dims(tx,3)\n",
        "    true_wh = tf.expand_dims(tw,3)\n",
        "    # print(tx[7][7][0], tw[7][7][0])\n",
        "    # true_xy = tf.expand_dims(true_box_xy, 4)\n",
        "    # true_wh = tf.expand_dims(true_box_wh, 4)\n",
        "    true_wh_half = true_wh / 2.\n",
        "    true_mins    = true_xy - true_wh_half\n",
        "    true_maxes   = true_xy + true_wh_half\n",
        "    \n",
        "    pred_xy = tf.expand_dims(pred_box_xy, 4)\n",
        "    pred_wh = tf.expand_dims(pred_box_wh, 4)\n",
        "    \n",
        "    pred_wh_half = pred_wh / 2.\n",
        "    pred_mins    = pred_xy - pred_wh_half\n",
        "    pred_maxes   = pred_xy + pred_wh_half    \n",
        "    intersect_mins  = tf.maximum(pred_mins,  true_mins)\n",
        "    intersect_maxes = tf.minimum(pred_maxes, true_maxes)\n",
        "    intersect_wh    = tf.maximum(intersect_maxes - intersect_mins, 0.)\n",
        "    intersect_areas = intersect_wh[..., 0] * intersect_wh[..., 1]\n",
        "    \n",
        "    true_areas = true_wh[..., 0] * true_wh[..., 1]\n",
        "    pred_areas = pred_wh[..., 0] * pred_wh[..., 1]\n",
        "\n",
        "    union_areas = pred_areas + true_areas - intersect_areas\n",
        "    iou_scores  = tf.truediv(intersect_areas, union_areas)\n",
        "\n",
        "    best_ious = tf.reduce_max(iou_scores, axis=4)\n",
        "    conf_mask = conf_mask + (tf.compat.v1.to_float(best_ious < 0.6) * (1 - y_true[..., 4]) * NO_OBJECT_SCALE)\n",
        "    # penalize the confidence of the boxes, which are reponsible for corresponding ground truth box\n",
        "    conf_mask = conf_mask + y_true[..., 4] * OBJECT_SCALE\n",
        "    \n",
        "    ### class mask: simply the position of the ground truth boxes (the predictors)\n",
        "    class_mask = y_true[..., 4] * tf.gather(CLASS_WEIGHTS, true_box_class) * CLASS_SCALE       \n",
        "    \n",
        "    \"\"\"\n",
        "    Warm-up training\n",
        "    \"\"\"\n",
        "    no_boxes_mask = tf.compat.v1.to_float(coord_mask < COORD_SCALE/2.)\n",
        "    seen = tf.compat.v1.assign_add(seen, 1.)\n",
        "    \n",
        "    true_box_xy, true_box_wh, coord_mask = tf.cond(tf.less(seen, WARM_UP_BATCHES), \n",
        "                          lambda: [true_box_xy + (0.5 + cell_grid) * no_boxes_mask, \n",
        "                                   true_box_wh + tf.ones_like(true_box_wh) * np.reshape(ANCHORS, [1,1,1,N_BOX,2]) * no_boxes_mask, \n",
        "                                   tf.ones_like(coord_mask)],\n",
        "                          lambda: [true_box_xy, \n",
        "                                   true_box_wh,\n",
        "                                   coord_mask])\n",
        "    \n",
        "    \"\"\"\n",
        "    Finalize the loss\n",
        "    \"\"\"\n",
        "    nb_coord_box = tf.reduce_sum(tf.compat.v1.to_float(coord_mask > 0.0))\n",
        "    nb_conf_box  = tf.reduce_sum(tf.compat.v1.to_float(conf_mask  > 0.0))\n",
        "    nb_class_box = tf.reduce_sum(tf.compat.v1.to_float(class_mask > 0.0))\n",
        "    \n",
        "    loss_xy    = tf.reduce_sum(tf.square(true_box_xy-pred_box_xy)     * coord_mask) / (nb_coord_box + 1e-6) / 2.\n",
        "    loss_wh    = tf.reduce_sum(tf.square(true_box_wh-pred_box_wh)     * coord_mask) / (nb_coord_box + 1e-6) / 2.\n",
        "    loss_conf  = tf.reduce_sum(tf.square(true_box_conf-pred_box_conf) * conf_mask)  / (nb_conf_box  + 1e-6) / 2.\n",
        "    loss_class = tf.nn.sparse_softmax_cross_entropy_with_logits(labels=true_box_class, logits=pred_box_class)\n",
        "    loss_class = tf.reduce_sum(loss_class * class_mask) / (nb_class_box + 1e-6)\n",
        "    \n",
        "    loss = tf.math.add(tf.math.add(loss_xy, loss_wh), tf.math.add(loss_conf, loss_class))\n",
        "    \n",
        "#     nb_true_box = tf.reduce_sum(y_true[..., 4])\n",
        "#     nb_pred_box = tf.reduce_sum(tf.compat.v1.to_float(true_box_conf > 0.5) * tf.compat.v1.to_float(pred_box_conf > 0.3))\n",
        "\n",
        "    \"\"\"\n",
        "    Debugging code\n",
        "       \n",
        "    current_recall = nb_pred_box/(nb_true_box + 1e-6)\n",
        "    total_recall = tf.compat.v1.assign_add(total_recall, current_recall) \n",
        "\n",
        "    loss = tf.compat.v1.Print(loss, [tf.zeros((1))], message='Dummy Line \\t', summarize=1000)\n",
        "    loss = tf.compat.v1.Print(loss, [loss_xy], message='Loss XY \\t', summarize=1000)\n",
        "    loss = tf.compat.v1.Print(loss, [loss_wh], message='Loss WH \\t', summarize=1000)\n",
        "    loss = tf.compat.v1.Print(loss, [loss_conf], message='Loss Conf \\t', summarize=1000)\n",
        "    loss = tf.compat.v1.Print(loss, [loss_class], message='Loss Class \\t', summarize=1000)\n",
        "    loss = tf.compat.v1.Print(loss, [loss], message='Total Loss \\t', summarize=1000)\n",
        "    loss = tf.compat.v1.Print(loss, [current_recall], message='Current Recall \\t', summarize=1000)\n",
        "    loss = tf.compat.v1.Print(loss, [total_recall/seen], message='Average Recall \\t', summarize=1000)\n",
        "    \"\"\"\n",
        "    return loss"
      ],
      "execution_count": 16,
      "outputs": []
    },
    {
      "cell_type": "code",
      "metadata": {
        "id": "CzIZ8j4wfEgI",
        "colab_type": "code",
        "colab": {}
      },
      "source": [
        "# help(custom_loss)"
      ],
      "execution_count": null,
      "outputs": []
    },
    {
      "cell_type": "code",
      "metadata": {
        "trusted": true,
        "id": "rNVTeA4aseKe",
        "colab_type": "code",
        "colab": {}
      },
      "source": [
        "tf.config.experimental_run_functions_eagerly(True)\n",
        "# tf.config.run_functions_eagerly(True)"
      ],
      "execution_count": 17,
      "outputs": []
    },
    {
      "cell_type": "code",
      "metadata": {
        "trusted": true,
        "id": "2N48aBe3seKg",
        "colab_type": "code",
        "colab": {}
      },
      "source": [
        "def train(model, true_boxes, one_fold, model_save_name):\n",
        "    layer = model.layers[-4]\n",
        "    weights = layer.get_weights()\n",
        "\n",
        "    new_kernel = np.random.normal(size=weights[0].shape) / (GRID_H * GRID_W)\n",
        "    new_bias = np.random.normal(size=weights[1].shape) / (GRID_H * GRID_W)\n",
        "\n",
        "    layer.set_weights([new_kernel, new_bias])\n",
        "\n",
        "    early_stop = EarlyStopping(monitor='val_loss',\n",
        "                               min_delta=0.001,\n",
        "                               patience=3,\n",
        "                               mode='min',\n",
        "                               verbose=1)\n",
        "\n",
        "    checkpoint = ModelCheckpoint(os.path.join(BASE_PATH,'all_imgs_mobile_net_loss.h5'),\n",
        "                                 monitor='val_loss',\n",
        "                                 verbose=1,\n",
        "                                 save_best_only=True,\n",
        "                                 mode='min')\n",
        "                                 #save_freq='epoch')\n",
        "\n",
        "    train_batch, valid_batch = one_fold\n",
        "\n",
        "    '''\n",
        "    if not os.path.exists(os.path.join(BASE_PATH,'tl_tf_logs')):\n",
        "        os.mkdir(os.path.join(BASE_PATH,'tl_tf_logs'))\n",
        "        \n",
        "    tb_counter = len([log for log in os.listdir(os.path.join(BASE_PATH,'tl_tf_logs')) if 'food' in log]) + 1\n",
        "    tensorboard = TensorBoard(log_dir=os.path.join(BASE_PATH, 'mess') + '/all_imgs_mobile_net' + '_' + str(tb_counter),\n",
        "                              histogram_freq=0,\n",
        "                              write_graph=True,\n",
        "                              write_images=False)\n",
        "    '''\n",
        "    optimizer = Adam(\n",
        "        lr= 1e-4,\n",
        "        beta_1= 0.9,\n",
        "        beta_2= 0.999,\n",
        "        epsilon= 1e-08,\n",
        "        decay= 0.0\n",
        "    )\n",
        "    # Compile model with custom loss function\n",
        "    model.compile(loss=custom_loss, optimizer=optimizer, metrics=['accuracy'])\n",
        "    print(\"Model compiled successfully!\")\n",
        "    # Start training\n",
        "    model.fit(\n",
        "        train_batch,\n",
        "        steps_per_epoch=len(train_batch),\n",
        "        epochs=20,\n",
        "        verbose=1,\n",
        "        validation_data=valid_batch,\n",
        "        validation_steps=len(valid_batch),\n",
        "        callbacks=[early_stop, checkpoint],\n",
        "#         callbacks=[early_stop, checkpoint], tensorboard],\n",
        "        max_queue_size=3 \n",
        "    )\n",
        "    print(\"Model trained successfully!\")\n",
        "    # Write the model on file\n",
        "    # model.save(os.path.join(BASE_PATH, \"food_trained_model_full.h5\"))\n",
        "    model.save(os.path.join(BASE_PATH, model_save_name))\n",
        "    print(\"Model saved!!\")\n",
        "    return model\n",
        "    "
      ],
      "execution_count": 18,
      "outputs": []
    },
    {
      "cell_type": "code",
      "metadata": {
        "trusted": true,
        "id": "aEWdIwuQseKj",
        "colab_type": "code",
        "colab": {}
      },
      "source": [
        "def parse_annotation(ann_dir, img_dir, labels=[]):\n",
        "    all_imgs = []\n",
        "    seen_labels = {}\n",
        "\n",
        "    for ann in tqdm(sorted(os.listdir(ann_dir))):\n",
        "        img = {'object': []}\n",
        "\n",
        "        if ann == '.DS_Store':\n",
        "          continue\n",
        "        tree = ET.parse(ann_dir + ann)\n",
        "\n",
        "        for elem in tree.iter():\n",
        "            if 'filename' in elem.tag:\n",
        "                img['filename'] = os.path.join(img_dir, elem.text)\n",
        "            if 'width' in elem.tag:\n",
        "                img['width'] = int(elem.text)\n",
        "            if 'height' in elem.tag:\n",
        "                img['height'] = int(elem.text)\n",
        "            if 'object' in elem.tag or 'part' in elem.tag:\n",
        "                obj = {}\n",
        "\n",
        "                for attr in list(elem):\n",
        "                    if 'name' in attr.tag:\n",
        "                        obj['name'] = attr.text\n",
        "\n",
        "                        if obj['name'] in seen_labels:\n",
        "                            seen_labels[obj['name']] += 1\n",
        "                        else:\n",
        "                            seen_labels[obj['name']] = 1\n",
        "\n",
        "                        if len(labels) > 0 and obj['name'] not in labels:\n",
        "                            break\n",
        "                        else:\n",
        "                            img['object'] += [obj]\n",
        "\n",
        "                    if 'bndbox' in attr.tag:\n",
        "                        for dim in list(attr):\n",
        "                            if 'xmin' in dim.tag:\n",
        "                                obj['xmin'] = int(round(float(dim.text)))\n",
        "                            if 'ymin' in dim.tag:\n",
        "                                obj['ymin'] = int(round(float(dim.text)))\n",
        "                            if 'xmax' in dim.tag:\n",
        "                                obj['xmax'] = int(round(float(dim.text)))\n",
        "                            if 'ymax' in dim.tag:\n",
        "                                obj['ymax'] = int(round(float(dim.text)))\n",
        "\n",
        "        if len(img['object']) > 0:\n",
        "            all_imgs += [img]\n",
        "\n",
        "    return all_imgs, seen_labels"
      ],
      "execution_count": 19,
      "outputs": []
    },
    {
      "cell_type": "code",
      "metadata": {
        "trusted": true,
        "id": "QjRWbn96seKl",
        "colab_type": "code",
        "colab": {}
      },
      "source": [
        "class BoundBox:\n",
        "    def __init__(self, xmin, ymin, xmax, ymax, c=None, classes=None):\n",
        "        self.xmin = xmin\n",
        "        self.ymin = ymin\n",
        "        self.xmax = xmax\n",
        "        self.ymax = ymax\n",
        "\n",
        "        self.c = c\n",
        "        self.classes = classes\n",
        "\n",
        "        self.label = -1\n",
        "        self.score = -1\n",
        "\n",
        "    def __str__(self):\n",
        "        return \"xmin: {}, ymin: {}, xmax: {}, ymax: {}, class: {}\".format(self.xmin, self.ymin, self.xmax, self.ymax, self.label)\n",
        "\n",
        "    def get_label(self):\n",
        "        if self.label == -1:\n",
        "            self.label = np.argmax(self.classes)\n",
        "\n",
        "        return self.label\n",
        "\n",
        "    def get_score(self):\n",
        "        if self.score == -1:\n",
        "            self.score = self.classes[self.get_label()]\n",
        "\n",
        "        return self.score\n",
        "\n",
        "    def get_conf(self):\n",
        "\n",
        "        return self.c"
      ],
      "execution_count": 20,
      "outputs": []
    },
    {
      "cell_type": "code",
      "metadata": {
        "trusted": true,
        "id": "Aw56_jnYseKo",
        "colab_type": "code",
        "colab": {}
      },
      "source": [
        "def bbox_iou(box1, box2):\n",
        "    intersect_w = _interval_overlap([box1.xmin, box1.xmax], [box2.xmin, box2.xmax])\n",
        "    intersect_h = _interval_overlap([box1.ymin, box1.ymax], [box2.ymin, box2.ymax])\n",
        "\n",
        "    intersect = intersect_w * intersect_h\n",
        "\n",
        "    w1, h1 = box1.xmax - box1.xmin, box1.ymax - box1.ymin\n",
        "    w2, h2 = box2.xmax - box2.xmin, box2.ymax - box2.ymin\n",
        "\n",
        "    union = w1 * h1 + w2 * h2 - intersect\n",
        "\n",
        "    return float(intersect) / union"
      ],
      "execution_count": 21,
      "outputs": []
    },
    {
      "cell_type": "code",
      "metadata": {
        "trusted": true,
        "id": "UtugldYDseKt",
        "colab_type": "code",
        "colab": {}
      },
      "source": [
        "def draw_boxes(image, boxes, labels):\n",
        "    image_h, image_w, _ = image.shape\n",
        "\n",
        "    for box in boxes:\n",
        "        print(box)\n",
        "        xmin = int(box['xmin'])\n",
        "        ymin = int(box['ymin'])\n",
        "        xmax = int(box['xmax'])\n",
        "        ymax = int(box['ymax'])\n",
        "\n",
        "        cv2.rectangle(image, (xmin, ymin), (xmax, ymax), (0, 255, 255), 1)\n",
        "        cv2.putText(image,\n",
        "                    box['name'],\n",
        "                    # labels[box.get_label()] + ' ' + str(box.get_score()),\n",
        "                    (xmin, ymin - 13),\n",
        "                    cv2.FONT_HERSHEY_SIMPLEX,\n",
        "                    1e-2 * image_h,\n",
        "                    (0, 255, 255), 1)\n",
        "\n",
        "    return image\n"
      ],
      "execution_count": 22,
      "outputs": []
    },
    {
      "cell_type": "code",
      "metadata": {
        "trusted": true,
        "id": "194c_qxIseKw",
        "colab_type": "code",
        "colab": {}
      },
      "source": [
        "def _interval_overlap(interval_a, interval_b):\n",
        "    x1, x2 = interval_a\n",
        "    x3, x4 = interval_b\n",
        "\n",
        "    if x3 < x1:\n",
        "        if x4 < x1:\n",
        "            return 0\n",
        "        else:\n",
        "            return min(x2, x4) - x1\n",
        "    else:\n",
        "        if x2 < x3:\n",
        "            return 0\n",
        "        else:\n",
        "            return min(x2, x4) - x3"
      ],
      "execution_count": 23,
      "outputs": []
    },
    {
      "cell_type": "code",
      "metadata": {
        "trusted": true,
        "id": "0aYpCN-oseK0",
        "colab_type": "code",
        "colab": {}
      },
      "source": [
        "def decode_netout(netout, anchors, nb_class, obj_threshold=0.1, nms_threshold=0.3):\n",
        "    grid_h, grid_w, nb_box = netout.shape[:3]\n",
        "    boxes = []\n",
        "\n",
        "    # decode the output by the network\n",
        "    netout[..., 4] = _sigmoid(netout[..., 4])\n",
        "    netout[..., 5:] = netout[..., 4][..., np.newaxis] * _softmax(netout[..., 5:])\n",
        "    netout[..., 5:] *= netout[..., 5:] > obj_threshold\n",
        "\n",
        "    for row in range(grid_h):\n",
        "        for col in range(grid_w):\n",
        "            for b in range(nb_box):\n",
        "                # from 4th element onwards are confidence and class classes\n",
        "                classes = netout[row, col, b, 5:]\n",
        "\n",
        "                if np.sum(classes) > 0:\n",
        "                    # first 4 elements are x, y, w, and h\n",
        "                    x, y, w, h = netout[row, col, b, :4]\n",
        "\n",
        "                    x = (col + _sigmoid(x)) / grid_w  # center position, unit: image width\n",
        "                    y = (row + _sigmoid(y)) / grid_h  # center position, unit: image height\n",
        "                    w = anchors[2 * b + 0] * np.exp(w) / grid_w  # unit: image width\n",
        "                    h = anchors[2 * b + 1] * np.exp(h) / grid_h  # unit: image height\n",
        "                    confidence = netout[row, col, b, 4]\n",
        "\n",
        "                    box = BoundBox(x - w / 2, y - h / 2, x + w / 2, y + h / 2, confidence, classes)\n",
        "\n",
        "                    boxes.append(box)\n",
        "\n",
        "    # suppress non-maximal boxes\n",
        "    for c in range(nb_class):\n",
        "        sorted_indices = list(reversed(np.argsort([box.classes[c] for box in boxes])))\n",
        "\n",
        "        for i in range(len(sorted_indices)):\n",
        "            index_i = sorted_indices[i]\n",
        "\n",
        "            if boxes[index_i].classes[c] == 0:\n",
        "                continue\n",
        "            else:\n",
        "                for j in range(i + 1, len(sorted_indices)):\n",
        "                    index_j = sorted_indices[j]\n",
        "\n",
        "                    if bbox_iou(boxes[index_i], boxes[index_j]) >= nms_threshold:\n",
        "                        boxes[index_j].classes[c] = 0\n",
        "\n",
        "    # remove the boxes which are less likely than a obj_threshold\n",
        "    boxes = [box for box in boxes if box.get_score() > obj_threshold]\n",
        "\n",
        "    return boxes"
      ],
      "execution_count": 24,
      "outputs": []
    },
    {
      "cell_type": "code",
      "metadata": {
        "id": "HlRST8Uousd9",
        "colab_type": "code",
        "colab": {}
      },
      "source": [
        "from google.colab import drive\n",
        "drive.mount('/content/drive')"
      ],
      "execution_count": null,
      "outputs": []
    },
    {
      "cell_type": "code",
      "metadata": {
        "trusted": true,
        "id": "2wkKMQCtseKr",
        "colab_type": "code",
        "colab": {}
      },
      "source": [
        "class BatchGenerator(Sequence):\n",
        "    def __init__(self, images,\n",
        "                 config,\n",
        "                 shuffle=True,\n",
        "                 jitter=True,\n",
        "                 norm=None):\n",
        "        self.generator = None\n",
        "        self.n = 0\n",
        "        \n",
        "        self.images = images\n",
        "        self.config = config\n",
        "\n",
        "        self.shuffle = shuffle\n",
        "        self.jitter = jitter\n",
        "        self.norm = norm\n",
        "\n",
        "        self.anchors = [BoundBox(0, 0, config['ANCHORS'][2 * i], config['ANCHORS'][2 * i + 1]) for i in\n",
        "                        range(int(len(config['ANCHORS']) // 2))]\n",
        "        self.max = self.__len__()\n",
        "\n",
        "        ### augmentors by https://github.com/aleju/imgaug\n",
        "        sometimes = lambda aug: iaa.Sometimes(0.5, aug)\n",
        "        # Define our sequence of augmentation steps that will be applied to every image\n",
        "        # All augmenters with per_channel=0.5 will sample one value _per image_\n",
        "        # in 50% of all cases. In all other cases they will sample new values\n",
        "        # _per channel_.\n",
        "        self.aug_pipe = iaa.Sequential(\n",
        "            [\n",
        "                # apply the following augmenters to most images\n",
        "                # iaa.Fliplr(0.5), # horizontally flip 50% of all images\n",
        "                # iaa.Flipud(0.2), # vertically flip 20% of all images\n",
        "                # sometimes(iaa.Crop(percent=(0, 0.1))), # crop images by 0-10% of their height/width\n",
        "                sometimes(iaa.Affine(\n",
        "                    # scale={\"x\": (0.8, 1.2), \"y\": (0.8, 1.2)}, # scale images to 80-120% of their size, individually per axis\n",
        "                    # translate_percent={\"x\": (-0.2, 0.2), \"y\": (-0.2, 0.2)}, # translate by -20 to +20 percent (per axis)\n",
        "                    # rotate=(-5, 5), # rotate by -45 to +45 degrees\n",
        "                    # shear=(-5, 5), # shear by -16 to +16 degrees\n",
        "                    # order=[0, 1], # use nearest neighbour or bilinear interpolation (fast)\n",
        "                    # cval=(0, 255), # if mode is constant, use a cval between 0 and 255\n",
        "                    # mode=ia.ALL # use any of scikit-image's warping modes (see 2nd image from the top for examples)\n",
        "                )),\n",
        "                # execute 0 to 5 of the following (less important) augmenters per image\n",
        "                # don't execute all of them, as that would often be way too strong\n",
        "                iaa.SomeOf((0, 5),\n",
        "                           [\n",
        "                               # sometimes(iaa.Superpixels(p_replace=(0, 1.0), n_segments=(20, 200))), # convert images into their superpixel representation\n",
        "                               iaa.OneOf([\n",
        "                                   iaa.GaussianBlur((0, 3.0)),  # blur images with a sigma between 0 and 3.0\n",
        "                                   iaa.AverageBlur(k=(2, 7)),\n",
        "                                   # blur image using local means with kernel sizes between 2 and 7\n",
        "                                   iaa.MedianBlur(k=(3, 11)),\n",
        "                                   # blur image using local medians with kernel sizes between 2 and 7\n",
        "                               ]),\n",
        "                               iaa.Sharpen(alpha=(0, 1.0), lightness=(0.75, 1.5)),  # sharpen images\n",
        "                               # iaa.Emboss(alpha=(0, 1.0), strength=(0, 2.0)), # emboss images\n",
        "                               # search either for all edges or for directed edges\n",
        "                               # sometimes(iaa.OneOf([\n",
        "                               #    iaa.EdgeDetect(alpha=(0, 0.7)),\n",
        "                               #    iaa.DirectedEdgeDetect(alpha=(0, 0.7), direction=(0.0, 1.0)),\n",
        "                               # ])),\n",
        "                               iaa.AdditiveGaussianNoise(loc=0, scale=(0.0, 0.05 * 255), per_channel=0.5),\n",
        "                               # add gaussian noise to images\n",
        "                               iaa.OneOf([\n",
        "                                   iaa.Dropout((0.01, 0.1), per_channel=0.5),  # randomly remove up to 10% of the pixels\n",
        "                                   # iaa.CoarseDropout((0.03, 0.15), size_percent=(0.02, 0.05), per_channel=0.2),\n",
        "                               ]),\n",
        "                               # iaa.Invert(0.05, per_channel=True), # invert color channels\n",
        "                               iaa.Add((-10, 10), per_channel=0.5),\n",
        "                               # change brightness of images (by -10 to 10 of original value)\n",
        "                               iaa.Multiply((0.5, 1.5), per_channel=0.5),\n",
        "                               # change brightness of images (50-150% of original value)\n",
        "                               iaa.ContrastNormalization((0.5, 2.0), per_channel=0.5),  # improve or worsen the contrast\n",
        "                               # iaa.Grayscale(alpha=(0.0, 1.0)),\n",
        "                               # sometimes(iaa.ElasticTransformation(alpha=(0.5, 3.5), sigma=0.25)), # move pixels locally around (with random strengths)\n",
        "                               # sometimes(iaa.PiecewiseAffine(scale=(0.01, 0.05))) # sometimes move parts of the image around\n",
        "                           ],\n",
        "                           random_order=True\n",
        "                           )\n",
        "            ],\n",
        "            random_order=True\n",
        "        )\n",
        "\n",
        "        if shuffle:\n",
        "            np.random.shuffle(self.images)\n",
        "\n",
        "    def __len__(self):\n",
        "        return int(np.ceil(float(len(self.images)) / self.config['BATCH_SIZE']))\n",
        "\n",
        "    def __next__(self):\n",
        "        if self.n >= self.max:\n",
        "           self.n = 0\n",
        "        result = self.__getitem__(self.n)\n",
        "        self.n += 1\n",
        "        return result\n",
        "    def num_classes(self):\n",
        "        return len(self.config['LABELS'])\n",
        "\n",
        "    def size(self):\n",
        "        return len(self.images)\n",
        "\n",
        "    def load_annotation(self, i):\n",
        "        annots = []\n",
        "\n",
        "        for obj in self.images[i]['object']:\n",
        "            print(obj['name'])\n",
        "            # if obj['name'][-1] == ' ':\n",
        "            #     obj['name'] = obj['name'][:-1]\n",
        "            # if obj['name'] == 'fermented soybeans':\n",
        "            #     obj['name'] = 'natto'\n",
        "            # if obj['name'] == 'beef steak':\n",
        "            #     obj['name'] = 'steak'\n",
        "            # if obj['name'] == 'rolled omelet':\n",
        "            #     obj['name'] = 'omelet'\n",
        "            annot = [obj['xmin'], obj['ymin'], obj['xmax'], obj['ymax'], self.config['LABELS'].index(obj['name'])]\n",
        "            annots += [annot]\n",
        "\n",
        "        if len(annots) == 0:\n",
        "            annots = [[]]\n",
        "\n",
        "        return np.array(annots)\n",
        "\n",
        "    def load_image(self, i):\n",
        "        isExist = os.path.exists(self.images[i]['filename']) \n",
        "        print(isExist) \n",
        "        return cv2.imread(self.images[i]['filename'])\n",
        "\n",
        "    def __getitem__(self, idx):\n",
        "        l_bound = idx * self.config['BATCH_SIZE']\n",
        "        r_bound = (idx + 1) * self.config['BATCH_SIZE']\n",
        "\n",
        "        if r_bound > len(self.images):\n",
        "            r_bound = len(self.images)\n",
        "            l_bound = r_bound - self.config['BATCH_SIZE']\n",
        "\n",
        "        instance_count = 0\n",
        "\n",
        "        x_batch = np.zeros((r_bound - l_bound, self.config['IMAGE_H'], self.config['IMAGE_W'], 3))  # input images\n",
        "        b_batch = np.zeros((r_bound - l_bound, 1, 1, 1, self.config['TRUE_BOX_BUFFER'],\n",
        "                            4))  # list of self.config['TRUE_self.config['BOX']_BUFFER'] GT boxes\n",
        "        y_batch = np.zeros((r_bound - l_bound, self.config['GRID_H'], self.config['GRID_W'], self.config['BOX'],\n",
        "                            4 + 1 + len(self.config['LABELS'])+4))  # desired network output\n",
        "\n",
        "        # y_batch_box = np.zeros((r_bound - l_bound, self.config['GRID_H'], self.config['GRID_W'], self.config['BOX'],\n",
        "        #                     4 + 1 + len(self.config['LABELS']) + 4)\n",
        "        for train_instance in self.images[l_bound:r_bound]:\n",
        "            # augment input image and fix object's position and size\n",
        "            img, all_objs = self.aug_image(train_instance, jitter=self.jitter)\n",
        "\n",
        "            # construct output from object's x, y, w, h\n",
        "            true_box_index = 0\n",
        "\n",
        "            for obj in all_objs:\n",
        "                if obj['xmax'] > obj['xmin'] and obj['ymax'] > obj['ymin'] and obj['name'] in self.config['LABELS']:\n",
        "                    center_x = .5 * (obj['xmin'] + obj['xmax'])\n",
        "                    center_x = center_x / (float(self.config['IMAGE_W']) / self.config['GRID_W'])\n",
        "                    center_y = .5 * (obj['ymin'] + obj['ymax'])\n",
        "                    center_y = center_y / (float(self.config['IMAGE_H']) / self.config['GRID_H'])\n",
        "\n",
        "                    grid_x = int(np.floor(center_x))\n",
        "                    grid_y = int(np.floor(center_y))\n",
        "\n",
        "                    if grid_x < self.config['GRID_W'] and grid_y < self.config['GRID_H']:\n",
        "                        obj_indx = self.config['LABELS'].index(obj['name'])\n",
        "\n",
        "                        center_w = (obj['xmax'] - obj['xmin']) / (\n",
        "                                float(self.config['IMAGE_W']) / self.config['GRID_W'])  # unit: grid cell\n",
        "                        center_h = (obj['ymax'] - obj['ymin']) / (\n",
        "                                float(self.config['IMAGE_H']) / self.config['GRID_H'])  # unit: grid cell\n",
        "\n",
        "                        box = [center_x, center_y, center_w, center_h]\n",
        "\n",
        "                        # find the anchor that best predicts this box\n",
        "                        best_anchor = -1\n",
        "                        max_iou = -1\n",
        "\n",
        "                        shifted_box = BoundBox(0,\n",
        "                                               0,\n",
        "                                               center_w,\n",
        "                                               center_h)\n",
        "\n",
        "                        for i in range(len(self.anchors)):\n",
        "                            anchor = self.anchors[i]\n",
        "                            iou = bbox_iou(shifted_box, anchor)\n",
        "\n",
        "                            if max_iou < iou:\n",
        "                                best_anchor = i\n",
        "                                max_iou = iou\n",
        "\n",
        "                        # assign ground truth x, y, w, h, confidence and class probs to y_batch\n",
        "                        y_batch[instance_count, grid_y, grid_x, best_anchor, 0:4] = box\n",
        "                        y_batch[instance_count, grid_y, grid_x, best_anchor, 4] = 1.\n",
        "                        y_batch[instance_count, grid_y, grid_x, best_anchor, 5 + obj_indx] = 1\n",
        "                        \n",
        "                        y_batch[instance_count, 0, 0, true_box_index, 9:13] = box\n",
        "                        \n",
        "\n",
        "                        # assign the true box to b_batch\n",
        "                        b_batch[instance_count, 0, 0, 0, true_box_index] = box\n",
        "                        \n",
        "\n",
        "                        true_box_index += 1\n",
        "                        true_box_index = true_box_index % self.config['TRUE_BOX_BUFFER']\n",
        "\n",
        "            # assign input image to x_batch\n",
        "            if self.norm is not None:\n",
        "                x_batch[instance_count] = self.norm(img)\n",
        "            else:\n",
        "                # plot image and bounding boxes for sanity check\n",
        "                for obj in all_objs:\n",
        "                    if obj['xmax'] > obj['xmin'] and obj['ymax'] > obj['ymin']:\n",
        "                        cv2.rectangle(img[:, :, ::-1], (obj['xmin'], obj['ymin']), (obj['xmax'], obj['ymax']),\n",
        "                                      (255, 0, 0), 3)\n",
        "                        cv2.putText(img[:, :, ::-1], obj['name'],\n",
        "                                    (obj['xmin'] + 2, obj['ymin'] + 12),\n",
        "                                    0, 1.2e-3 * img.shape[0],\n",
        "                                    (0, 255, 0), 2)\n",
        "\n",
        "                x_batch[instance_count] = img\n",
        "\n",
        "            # increase instance counter in current batch\n",
        "            instance_count += 1\n",
        "\n",
        "            # print(' new batch created', idx)\n",
        "\n",
        "        return [x_batch, b_batch], y_batch\n",
        "\n",
        "    def on_epoch_end(self):\n",
        "        if self.shuffle: np.random.shuffle(self.images)\n",
        "\n",
        "    def aug_image(self, train_instance, jitter):\n",
        "        image_name = train_instance['filename']\n",
        "        image = cv2.imread(image_name)\n",
        "\n",
        "        if image is None:\n",
        "            print('Cannot find ', image_name)\n",
        "\n",
        "        h, w, c = image.shape\n",
        "        all_objs = deepcopy(train_instance['object'])\n",
        "\n",
        "        if jitter:\n",
        "            ### scale the image\n",
        "            scale = np.random.uniform() / 10. + 1.\n",
        "            image = cv2.resize(image, (0, 0), fx=scale, fy=scale)\n",
        "\n",
        "            ### translate the image\n",
        "            max_offx = (scale - 1.) * w\n",
        "            max_offy = (scale - 1.) * h\n",
        "            offx = int(np.random.uniform() * max_offx)\n",
        "            offy = int(np.random.uniform() * max_offy)\n",
        "\n",
        "            image = image[offy: (offy + h), offx: (offx + w)]\n",
        "\n",
        "            ### flip the image\n",
        "            flip = np.random.binomial(1, .5)\n",
        "            if flip > 0.5:\n",
        "                image = cv2.flip(image, 1)\n",
        "\n",
        "            image = self.aug_pipe.augment_image(image)\n",
        "\n",
        "        # resize the image to standard size\n",
        "        image = cv2.resize(image, (self.config['IMAGE_H'], self.config['IMAGE_W']))\n",
        "        image = image[:, :, ::-1]\n",
        "\n",
        "        # fix object's position and size\n",
        "        for obj in all_objs:\n",
        "            for attr in ['xmin', 'xmax']:\n",
        "                if jitter:\n",
        "                    obj[attr] = int(obj[attr] * scale - offx)\n",
        "\n",
        "                # convert annotation from raw size to net input size\n",
        "                obj[attr] = int(obj[attr] * float(self.config['IMAGE_W']) / w)\n",
        "                obj[attr] = max(min(obj[attr], self.config['IMAGE_W']), 0)\n",
        "\n",
        "            for attr in ['ymin', 'ymax']:\n",
        "                if jitter:\n",
        "                    obj[attr] = int(obj[attr] * scale - offy)\n",
        "\n",
        "                # convert annotation from raw size to net input size\n",
        "                obj[attr] = int(obj[attr] * float(self.config['IMAGE_H']) / h)\n",
        "                obj[attr] = max(min(obj[attr], self.config['IMAGE_H']), 0)\n",
        "\n",
        "            if jitter and flip > 0.5:\n",
        "                xmin = obj['xmin']\n",
        "                obj['xmin'] = self.config['IMAGE_W'] - obj['xmax']\n",
        "                obj['xmax'] = self.config['IMAGE_W'] - xmin\n",
        "\n",
        "        return image, all_objs"
      ],
      "execution_count": 25,
      "outputs": []
    },
    {
      "cell_type": "markdown",
      "metadata": {
        "id": "XgAyzoShseK3",
        "colab_type": "text"
      },
      "source": [
        "# Load Dataset"
      ]
    },
    {
      "cell_type": "code",
      "metadata": {
        "trusted": true,
        "id": "LV4FE-weseK4",
        "colab_type": "code",
        "colab": {
          "base_uri": "https://localhost:8080/",
          "height": 101
        },
        "outputId": "ce62c94b-ceea-43cf-d61c-c5262d9dbf19"
      },
      "source": [
        "all_imgs = []\n",
        "for i in range(0, len(LABELS)):\n",
        "    image_path = os.path.join(BASE_PATH, \"Dataset\", str(i+1)) #'Dataset/' + str(i+1) + '/'\n",
        "    annot_path = os.path.join(BASE_PATH, \"Dataset\", str(i+1), \"annotations/\") #'Dataset' + str(i+1) + '/' + '/annotations/'\n",
        "\n",
        "    folder_imgs, seen_labels = parse_annotation(annot_path, image_path, labels=LABELS)\n",
        "    all_imgs.extend(folder_imgs)\n",
        "\n",
        "print(len(all_imgs))"
      ],
      "execution_count": 35,
      "outputs": [
        {
          "output_type": "stream",
          "text": [
            "100%|██████████| 889/889 [00:02<00:00, 332.92it/s]\n",
            "100%|██████████| 369/369 [00:01<00:00, 351.55it/s]\n",
            "100%|██████████| 434/434 [00:01<00:00, 350.63it/s]\n",
            "100%|██████████| 693/693 [00:02<00:00, 339.49it/s]"
          ],
          "name": "stderr"
        },
        {
          "output_type": "stream",
          "text": [
            "2381\n"
          ],
          "name": "stdout"
        },
        {
          "output_type": "stream",
          "text": [
            "\n"
          ],
          "name": "stderr"
        }
      ]
    },
    {
      "cell_type": "code",
      "metadata": {
        "trusted": true,
        "id": "nsu0pRJgseK8",
        "colab_type": "code",
        "colab": {}
      },
      "source": [
        "img_test = all_imgs[151]"
      ],
      "execution_count": 27,
      "outputs": []
    },
    {
      "cell_type": "code",
      "metadata": {
        "trusted": true,
        "id": "YNdNmGWOseK_",
        "colab_type": "code",
        "colab": {
          "base_uri": "https://localhost:8080/",
          "height": 84
        },
        "outputId": "5b3ba2d8-032a-4f7b-8ef3-56c8c59c5938"
      },
      "source": [
        "img_test"
      ],
      "execution_count": 28,
      "outputs": [
        {
          "output_type": "execute_result",
          "data": {
            "text/plain": [
              "{'filename': '/content/drive/My Drive/food-detection/Dataset/1/1224.jpg',\n",
              " 'height': 224,\n",
              " 'object': [{'name': 'rice', 'xmax': 56, 'xmin': 0, 'ymax': 64, 'ymin': 0}],\n",
              " 'width': 224}"
            ]
          },
          "metadata": {
            "tags": []
          },
          "execution_count": 28
        }
      ]
    },
    {
      "cell_type": "code",
      "metadata": {
        "trusted": true,
        "id": "7qSjkY1DseLE",
        "colab_type": "code",
        "colab": {
          "base_uri": "https://localhost:8080/",
          "height": 302
        },
        "outputId": "d368f895-145f-48cc-8265-5f21df4b40d0"
      },
      "source": [
        "img = mpimg.imread(img_test['filename'])\n",
        "box = img_test['object']\n",
        "plt.imshow(draw_boxes(img, box, LABELS))"
      ],
      "execution_count": 29,
      "outputs": [
        {
          "output_type": "stream",
          "text": [
            "{'name': 'rice', 'xmin': 0, 'ymin': 0, 'xmax': 56, 'ymax': 64}\n"
          ],
          "name": "stdout"
        },
        {
          "output_type": "execute_result",
          "data": {
            "text/plain": [
              "<matplotlib.image.AxesImage at 0x7f14067741d0>"
            ]
          },
          "metadata": {
            "tags": []
          },
          "execution_count": 29
        },
        {
          "output_type": "display_data",
          "data": {
            "image/png": "[encoded data removed]",
            "text/plain": [
              "<Figure size 432x288 with 1 Axes>"
            ]
          },
          "metadata": {
            "tags": [],
            "needs_background": "light"
          }
        }
      ]
    },
    {
      "cell_type": "code",
      "metadata": {
        "trusted": true,
        "id": "rAc3m2e2seLN",
        "colab_type": "code",
        "colab": {}
      },
      "source": [
        "# # add extensions to image name\n",
        "# for img in all_imgs:\n",
        "#     img['filename'] = img['filename']"
      ],
      "execution_count": 30,
      "outputs": []
    },
    {
      "cell_type": "code",
      "metadata": {
        "trusted": true,
        "id": "5ta2yi69seLP",
        "colab_type": "code",
        "colab": {
          "base_uri": "https://localhost:8080/",
          "height": 34
        },
        "outputId": "64d37dc0-3708-44fa-e4c4-416eb3387b9b"
      },
      "source": [
        "print('=> Generate BatchGenerator.')\n",
        "batches = BatchGenerator(all_imgs, generator_config)"
      ],
      "execution_count": 31,
      "outputs": [
        {
          "output_type": "stream",
          "text": [
            "=> Generate BatchGenerator.\n"
          ],
          "name": "stdout"
        }
      ]
    },
    {
      "cell_type": "code",
      "metadata": {
        "trusted": true,
        "id": "lLf9-HnDseLS",
        "colab_type": "code",
        "colab": {
          "base_uri": "https://localhost:8080/",
          "height": 286
        },
        "outputId": "abe28cd2-9de2-4a39-c69e-b213ed4b4515"
      },
      "source": [
        "img = batches[0][0][0][5]\n",
        "plt.imshow(img.astype('uint8'))"
      ],
      "execution_count": 32,
      "outputs": [
        {
          "output_type": "execute_result",
          "data": {
            "text/plain": [
              "<matplotlib.image.AxesImage at 0x7f1405263c18>"
            ]
          },
          "metadata": {
            "tags": []
          },
          "execution_count": 32
        },
        {
          "output_type": "display_data",
          "data": {
            "image/png": "[encoded data removed]",
            "text/plain": [
              "<Figure size 432x288 with 1 Axes>"
            ]
          },
          "metadata": {
            "tags": [],
            "needs_background": "light"
          }
        }
      ]
    },
    {
      "cell_type": "code",
      "metadata": {
        "trusted": true,
        "id": "ByT1sFohseLU",
        "colab_type": "code",
        "colab": {
          "base_uri": "https://localhost:8080/",
          "height": 202
        },
        "outputId": "9a40a54a-27db-4bba-87b0-f72ad05bdb86"
      },
      "source": [
        "print(len(all_imgs))\n",
        "# train_valid_split = int(0.9 * len(all_imgs))\n",
        "print(train_valid_split)\n",
        "# train_batch = BatchGenerator(all_imgs[:train_valid_split], generator_config, norm=normalize)\n",
        "# valid_batch = BatchGenerator(all_imgs[train_valid_split:], generator_config, norm=normalize, jitter=False)\n",
        "\n",
        "train_valid_split = len(all_imgs) // 5\n",
        "print(train_valid_split)\n",
        "kfolds = []\n",
        "print(len(all_imgs[:train_valid_split]))\n",
        "valid_batch = BatchGenerator(all_imgs[:train_valid_split], generator_config, norm=normalize, shuffle=False)\n",
        "train_batch = BatchGenerator(all_imgs[train_valid_split:], generator_config, norm=normalize, shuffle=False)\n",
        "print(\"\\t\", len(train_batch), len(valid_batch))\n",
        "kfolds.append((train_batch, valid_batch))\n",
        "\n",
        "valid_batch = BatchGenerator(all_imgs[train_valid_split: 2*train_valid_split], generator_config, norm=normalize, shuffle=False)\n",
        "train_batch = BatchGenerator(all_imgs[:train_valid_split] + all_imgs[2*train_valid_split:], generator_config, norm=normalize, shuffle=False)\n",
        "print(\"\\t\", len(train_batch), len(valid_batch))\n",
        "kfolds.append((train_batch, valid_batch))\n",
        "\n",
        "valid_batch = BatchGenerator(all_imgs[2*train_valid_split: 3*train_valid_split], generator_config, norm=normalize, shuffle=False)\n",
        "train_batch = BatchGenerator(all_imgs[:2*train_valid_split:] + all_imgs[3*train_valid_split:], generator_config, norm=normalize, shuffle=False)\n",
        "print(\"\\t\", len(train_batch), len(valid_batch))\n",
        "kfolds.append((train_batch, valid_batch))\n",
        "\n",
        "valid_batch = BatchGenerator(all_imgs[3*train_valid_split: 4*train_valid_split], generator_config, norm=normalize, shuffle=False)\n",
        "train_batch = BatchGenerator(all_imgs[:3*train_valid_split:] + all_imgs[4*train_valid_split:], generator_config, norm=normalize, shuffle=False)\n",
        "print(\"\\t\", len(train_batch), len(valid_batch))\n",
        "kfolds.append((train_batch, valid_batch))\n",
        "\n",
        "valid_batch = BatchGenerator(all_imgs[4*train_valid_split:], generator_config, norm=normalize, shuffle=False)\n",
        "train_batch = BatchGenerator(all_imgs[:4*train_valid_split], generator_config, norm=normalize, shuffle=False)\n",
        "print(\"\\t\", len(train_batch), len(valid_batch))\n",
        "kfolds.append((train_batch, valid_batch))\n",
        "\n",
        "\n",
        "print(len(train_batch))\n",
        "\n",
        "print(len(valid_batch))"
      ],
      "execution_count": 48,
      "outputs": [
        {
          "output_type": "stream",
          "text": [
            "2381\n",
            "476\n",
            "476\n",
            "476\n",
            "\t 30 8\n",
            "\t 30 8\n",
            "\t 30 8\n",
            "\t 30 8\n",
            "\t 30 8\n",
            "30\n",
            "8\n"
          ],
          "name": "stdout"
        }
      ]
    },
    {
      "cell_type": "code",
      "metadata": {
        "id": "K6NjjaCE1pwm",
        "colab_type": "code",
        "colab": {
          "base_uri": "https://localhost:8080/",
          "height": 101
        },
        "outputId": "730e7ac9-9fb5-401b-e0f3-3e37c6e568fd"
      },
      "source": [
        "for i in kfolds:\n",
        "    print(len(i[0]), len(i[1]))"
      ],
      "execution_count": 44,
      "outputs": [
        {
          "output_type": "stream",
          "text": [
            "30 8\n",
            "30 8\n",
            "30 8\n",
            "30 8\n",
            "30 8\n"
          ],
          "name": "stdout"
        }
      ]
    },
    {
      "cell_type": "code",
      "metadata": {
        "id": "pQBpB4gNwVXE",
        "colab_type": "code",
        "colab": {
          "base_uri": "https://localhost:8080/",
          "height": 84
        },
        "outputId": "236746be-9ca9-4eb8-fc53-387c1d89118a"
      },
      "source": [
        "[X_batch,B_batch],Y_batch = train_batch.__getitem__(9)\n",
        "print(\"x_batch: (BATCH_SIZE, IMAGE_H, IMAGE_W, N channels)           = {}\".format(X_batch.shape))\n",
        "# print(\"y_batch: (BATCH_SIZE, GRID_H, GRID_W, BOX, 4 + 1 + N classes) = {}\".format(Y_batch[1]))\n",
        "print(\"y_batch: (BATCH_SIZE, GRID_H, GRID_W, BOX, 4 + 1 + N classes) = {}\".format(Y_batch[0][0][0][0]))\n",
        "print(\"b_batch: (BATCH_SIZE, 1, 1, 1, TRUE_BOX_BUFFER, 4)            = {}\".format(B_batch[0][0][0][0][0]))"
      ],
      "execution_count": 41,
      "outputs": [
        {
          "output_type": "stream",
          "text": [
            "x_batch: (BATCH_SIZE, IMAGE_H, IMAGE_W, N channels)           = (64, 224, 224, 3)\n",
            "y_batch: (BATCH_SIZE, GRID_H, GRID_W, BOX, 4 + 1 + N classes) = [0.       0.       0.       0.       0.       0.       0.       0.\n",
            " 0.       4.890625 1.359375 2.53125  2.71875 ]\n",
            "b_batch: (BATCH_SIZE, 1, 1, 1, TRUE_BOX_BUFFER, 4)            = [4.890625 1.359375 2.53125  2.71875 ]\n"
          ],
          "name": "stdout"
        }
      ]
    },
    {
      "cell_type": "markdown",
      "metadata": {
        "id": "AlqcU7V0seLX",
        "colab_type": "text"
      },
      "source": [
        "# Training"
      ]
    },
    {
      "cell_type": "code",
      "metadata": {
        "trusted": true,
        "id": "zA4grwKSseLX",
        "colab_type": "code",
        "colab": {
          "base_uri": "https://localhost:8080/",
          "height": 474
        },
        "outputId": "3e0a98a5-9551-4387-eb62-1a8995eb896d"
      },
      "source": [
        "model, true_boxes = get_model()"
      ],
      "execution_count": 42,
      "outputs": [
        {
          "output_type": "stream",
          "text": [
            "=> Building MobileNetV2 model...\n",
            "Downloading data from https://storage.googleapis.com/tensorflow/keras-applications/mobilenet_v2/mobilenet_v2_weights_tf_dim_ordering_tf_kernels_1.0_224_no_top.h5\n",
            "9412608/9406464 [==============================] - 0s 0us/step\n",
            "=> Model Summary\n",
            "Model: \"model\"\n",
            "__________________________________________________________________________________________________\n",
            "Layer (type)                    Output Shape         Param #     Connected to                     \n",
            "==================================================================================================\n",
            "input_image (InputLayer)        [(None, 224, 224, 3) 0                                            \n",
            "__________________________________________________________________________________________________\n",
            "mobilenetv2_1.00_224 (Model)    (None, 7, 7, 1280)   2257984     input_image[0][0]                \n",
            "__________________________________________________________________________________________________\n",
            "conv_23 (Conv2D)                (None, 7, 7, 45)     57645       mobilenetv2_1.00_224[1][0]       \n",
            "__________________________________________________________________________________________________\n",
            "reshape (Reshape)               (None, 7, 7, 5, 9)   0           conv_23[0][0]                    \n",
            "__________________________________________________________________________________________________\n",
            "input_hack (InputLayer)         [(None, 1, 1, 1, 50, 0                                            \n",
            "__________________________________________________________________________________________________\n",
            "lambda (Lambda)                 (None, 7, 7, 5, 9)   0           reshape[0][0]                    \n",
            "                                                                 input_hack[0][0]                 \n",
            "==================================================================================================\n",
            "Total params: 2,315,629\n",
            "Trainable params: 57,645\n",
            "Non-trainable params: 2,257,984\n",
            "__________________________________________________________________________________________________\n",
            "None\n"
          ],
          "name": "stdout"
        }
      ]
    },
    {
      "cell_type": "code",
      "metadata": {
        "trusted": true,
        "id": "Vc1FWbQIseLZ",
        "colab_type": "code",
        "colab": {
          "base_uri": "https://localhost:8080/",
          "height": 84
        },
        "outputId": "9c55dec1-d4ee-4fed-bf12-d2193f01cc73"
      },
      "source": [
        "#t_model = train(model, true_boxes, model_save_location)\n",
        "all_models = []\n",
        "for i in range(len(kfolds)):\n",
        "    print(\"Training model {}\".format(i+1))\n",
        "    t_model = train(model, true_boxes, kfolds[i], \"food_model_\"+str(i)+\".h5\")\n",
        "    all_models.append(t_model)"
      ],
      "execution_count": null,
      "outputs": [
        {
          "output_type": "stream",
          "text": [
            "Training model 1\n",
            "Model compiled successfully!\n",
            "Epoch 1/20\n",
            "26/30 [=========================>....] - ETA: 56s - loss: 39.4094 - accuracy: 0.1033 "
          ],
          "name": "stdout"
        }
      ]
    },
    {
      "cell_type": "markdown",
      "metadata": {
        "id": "ZiGfmO4G1Uyy",
        "colab_type": "text"
      },
      "source": [
        "## Evaluate"
      ]
    },
    {
      "cell_type": "code",
      "metadata": {
        "id": "7HR0EZ1zs1TP",
        "colab_type": "code",
        "colab": {}
      },
      "source": [
        "# Code by Shashwat\n",
        "accuracy = {}\n",
        "losses = {}\n",
        "for i in range(len(kfolds)):\n",
        "    path = os.path.join(BASE_PATH, \"food_model_\"+str(i)+\".h5\")\n",
        "    model = load_model(path, custom_objects={'custom_loss':custom_loss})  \n",
        "    optimizer = Adam(\n",
        "        lr= 1e-4,\n",
        "        beta_1= 0.9,\n",
        "        beta_2= 0.999,\n",
        "        epsilon= 1e-08,\n",
        "        decay= 0.0\n",
        "    )\n",
        "    model.compile(loss=custom_loss,\n",
        "                  optimizer=optimizer,\n",
        "                  metrics=['accuracy'])\n",
        "    loss = model.evaluate(kfolds[i][1], verbose=1)\n",
        "    print(\"Loss:\", loss)\n",
        "    losses[i] = loss"
      ],
      "execution_count": null,
      "outputs": []
    },
    {
      "cell_type": "code",
      "metadata": {
        "id": "1Hjo90Dxs02Y",
        "colab_type": "code",
        "colab": {}
      },
      "source": [
        ""
      ],
      "execution_count": null,
      "outputs": []
    },
    {
      "cell_type": "code",
      "metadata": {
        "trusted": true,
        "id": "_xo5PQmDseLe",
        "colab_type": "code",
        "colab": {}
      },
      "source": [
        "path = os.path.join(BASE_PATH, \"trained_model.h5\")\n",
        "model = load_model(path, custom_objects={'custom_loss':custom_loss})"
      ],
      "execution_count": null,
      "outputs": []
    },
    {
      "cell_type": "code",
      "metadata": {
        "trusted": true,
        "id": "M0YF6ua5seLg",
        "colab_type": "code",
        "colab": {
          "base_uri": "https://localhost:8080/",
          "height": 215
        },
        "outputId": "8469deb8-2334-4e37-d097-b2f9c35b1ef5"
      },
      "source": [
        "optimizer = Adam(\n",
        "        lr= 1e-4,\n",
        "        beta_1= 0.9,\n",
        "        beta_2= 0.999,\n",
        "        epsilon= 1e-08,\n",
        "        decay= 0.0\n",
        "    )\n",
        "model.compile(loss=custom_loss,\n",
        "              optimizer=optimizer,\n",
        "              metrics=['accuracy'])\n",
        "loss = model.evaluate(valid_batch,verbose=1)\n",
        "print(\"Loss:\", loss)"
      ],
      "execution_count": null,
      "outputs": [
        {
          "output_type": "error",
          "ename": "NameError",
          "evalue": "ignored",
          "traceback": [
            "\u001b[0;31m---------------------------------------------------------------------------\u001b[0m",
            "\u001b[0;31mNameError\u001b[0m                                 Traceback (most recent call last)",
            "\u001b[0;32m<ipython-input-41-0c9857df63b1>\u001b[0m in \u001b[0;36m<module>\u001b[0;34m()\u001b[0m\n\u001b[1;32m      9\u001b[0m               \u001b[0moptimizer\u001b[0m\u001b[0;34m=\u001b[0m\u001b[0moptimizer\u001b[0m\u001b[0;34m,\u001b[0m\u001b[0;34m\u001b[0m\u001b[0;34m\u001b[0m\u001b[0m\n\u001b[1;32m     10\u001b[0m               metrics=['accuracy'])\n\u001b[0;32m---> 11\u001b[0;31m \u001b[0mloss\u001b[0m \u001b[0;34m=\u001b[0m \u001b[0mmodel\u001b[0m\u001b[0;34m.\u001b[0m\u001b[0mevaluate\u001b[0m\u001b[0;34m(\u001b[0m\u001b[0mvalid_batch\u001b[0m\u001b[0;34m,\u001b[0m\u001b[0mverbose\u001b[0m\u001b[0;34m=\u001b[0m\u001b[0;36m1\u001b[0m\u001b[0;34m)\u001b[0m\u001b[0;34m\u001b[0m\u001b[0;34m\u001b[0m\u001b[0m\n\u001b[0m\u001b[1;32m     12\u001b[0m \u001b[0mprint\u001b[0m\u001b[0;34m(\u001b[0m\u001b[0;34m\"Loss:\"\u001b[0m\u001b[0;34m,\u001b[0m \u001b[0mloss\u001b[0m\u001b[0;34m)\u001b[0m\u001b[0;34m\u001b[0m\u001b[0;34m\u001b[0m\u001b[0m\n",
            "\u001b[0;31mNameError\u001b[0m: name 'valid_batch' is not defined"
          ]
        }
      ]
    },
    {
      "cell_type": "code",
      "metadata": {
        "id": "EYYIzCne1a5p",
        "colab_type": "code",
        "colab": {}
      },
      "source": [
        "print(\"Metrics Name: \" ,model.metrics_names)\n",
        "print(\"%s: %.2f%%\" % (loss[0], float(loss[1])*100))\n",
        "# print(model.summary())\n",
        "# print(model.History)\n",
        "\n",
        "# #  \"Accuracy\"\n",
        "# plt.plot(model.history['acc'])\n",
        "# plt.plot(model.history['val_acc'])\n",
        "# plt.title('model accuracy')\n",
        "# plt.ylabel('accuracy')\n",
        "# plt.xlabel('epoch')\n",
        "# plt.legend(['train', 'validation'], loc='upper left')\n",
        "# plt.show()\n",
        "# # \"Loss\"\n",
        "# plt.plot(model.history['loss'])\n",
        "# plt.plot(model.history['val_loss'])\n",
        "# plt.title('model loss')\n",
        "# plt.ylabel('loss')\n",
        "# plt.xlabel('epoch')\n",
        "# plt.legend(['train', 'validation'], loc='upper left')\n",
        "# plt.show()"
      ],
      "execution_count": null,
      "outputs": []
    },
    {
      "cell_type": "markdown",
      "metadata": {
        "id": "r5Rh4Duitadp",
        "colab_type": "text"
      },
      "source": [
        "## Prediction"
      ]
    },
    {
      "cell_type": "code",
      "metadata": {
        "trusted": true,
        "id": "Cj1JrUwzseLc",
        "colab_type": "code",
        "colab": {}
      },
      "source": [
        "from tensorflow.keras.models import load_model\n",
        "from keras.preprocessing.image import load_img\n",
        "from keras.preprocessing.image import img_to_array, array_to_img\n",
        "from numpy import expand_dims\n",
        "from matplotlib import pyplot\n",
        "from matplotlib.patches import Rectangle\n",
        "import numpy as np"
      ],
      "execution_count": null,
      "outputs": []
    },
    {
      "cell_type": "code",
      "metadata": {
        "trusted": true,
        "id": "x7NDXWvaseLn",
        "colab_type": "code",
        "colab": {
          "base_uri": "https://localhost:8080/",
          "height": 34
        },
        "outputId": "0282a308-feab-4b09-ce17-272bdcd415d7"
      },
      "source": [
        "!ls\n",
        "import PIL"
      ],
      "execution_count": null,
      "outputs": [
        {
          "output_type": "stream",
          "text": [
            "drive  sample_data\n"
          ],
          "name": "stdout"
        }
      ]
    },
    {
      "cell_type": "code",
      "metadata": {
        "trusted": true,
        "id": "eUFpk56GseLp",
        "colab_type": "code",
        "colab": {}
      },
      "source": [
        "image_path = os.path.join(BASE_PATH, 'images', '02.jpg')\n",
        "img = cv2.imread(image_path)\n",
        "# img = img_to_array(img)"
      ],
      "execution_count": null,
      "outputs": []
    },
    {
      "cell_type": "code",
      "metadata": {
        "id": "B1GyxpRGyoah",
        "colab_type": "code",
        "colab": {}
      },
      "source": [
        "from scipy.special import expit\n",
        "def _sigmoid(x):\n",
        "    return expit(x)\n",
        "\n",
        "\n",
        "def _softmax(x, axis=-1):\n",
        "    x = x - np.amax(x, axis, keepdims=True)\n",
        "    e_x = np.exp(x)\n",
        "\n",
        "    return e_x / e_x.sum(axis, keepdims=True)"
      ],
      "execution_count": null,
      "outputs": []
    },
    {
      "cell_type": "code",
      "metadata": {
        "trusted": true,
        "id": "DDB7vQPsseLs",
        "colab_type": "code",
        "colab": {}
      },
      "source": [
        "def predict(image, model, labels = [], anchors = []):\n",
        "    image_h, image_w, _ = image.shape\n",
        "    image_name = \"01.jpg\"\n",
        "    fig, ax = plt.subplots(nrows=1, ncols=1)\n",
        "    ax.imshow(image[:, :, ::-1])\n",
        "\n",
        "    image = cv2.resize(image, (224, 224))\n",
        "    # ax.imshow(image[:, :, ::-1])\n",
        "    image = normalize(image)\n",
        "    input_image = image[:, :, ::-1]\n",
        "\n",
        "    input_image = np.expand_dims(input_image, 0)\n",
        "    dummy_array = np.zeros((1, 1, 1, 1, 50, 4))\n",
        "    netout = model.predict([input_image, dummy_array])[0]\n",
        "    # print(netout.shape)\n",
        "    # print(netout[0][0][0])\n",
        "    # anchors = [4.33, 3.64, 6.92, 6.26, 10.81, 7.48, 10.81, 4.86, 12.20, 9.29]\n",
        "\n",
        "    boxes = decode_netout(netout, anchors, CLASS)\n",
        "    box_colors = ['#FF0000', '#FFFF00', '#00FF00', '#0000FF', '#00FFFF', '#FF00FF',\n",
        "                  '#FFA500', '#FF3700', '#800080', '#00FF19',]\n",
        "    \n",
        "    # # remove axes\n",
        "    plt.gca().xaxis.set_major_locator(plt.NullLocator())\n",
        "    plt.gca().yaxis.set_major_locator(plt.NullLocator())\n",
        "    \n",
        "    if boxes is not None:\n",
        "        for i, box in enumerate(boxes):\n",
        "            xmin = min(int(box.xmin * image_w), image_w)\n",
        "            ymin = min(int(box.ymin * image_h), image_h)\n",
        "            xmax = min(int(box.xmax * image_w), image_w)\n",
        "            ymax = min(int(box.ymax * image_h), image_h)\n",
        "    \n",
        "            ax.add_patch(Rectangle((xmin, ymin), xmax - xmin, ymax - ymin,\n",
        "                                   facecolor='none', edgecolor=box_colors[i % len(box_colors)], linewidth=2.0))\n",
        "            ax.text(xmin, ymax, labels[box.get_label()] + ' ' + str('{0:.3f}'.format(box.get_conf())),\n",
        "                    backgroundcolor=box_colors[i% len(box_colors)], alpha=1)\n",
        "    # #\n",
        "    result_path = os.path.join(BASE_PATH, \"results\")\n",
        "    fig.savefig(os.path.join(result_path, image_name))\n",
        "\n",
        "    return boxes"
      ],
      "execution_count": null,
      "outputs": []
    },
    {
      "cell_type": "code",
      "metadata": {
        "trusted": true,
        "id": "_awAPfPwseLw",
        "colab_type": "code",
        "colab": {
          "base_uri": "https://localhost:8080/",
          "height": 252
        },
        "outputId": "2ad0d8ab-9ade-4507-aad1-0d5a97fb5a09"
      },
      "source": [
        "l = predict(img, model, LABELS, ANCHORS)"
      ],
      "execution_count": null,
      "outputs": [
        {
          "output_type": "display_data",
          "data": {
            "image/png": "[encoded data removed]",
            "text/plain": [
              "<Figure size 432x288 with 1 Axes>"
            ]
          },
          "metadata": {
            "tags": []
          }
        }
      ]
    },
    {
      "cell_type": "code",
      "metadata": {
        "id": "PAiOn0mA_ThN",
        "colab_type": "code",
        "colab": {
          "base_uri": "https://localhost:8080/",
          "height": 119
        },
        "outputId": "6ba301fc-04d3-4d9b-e059-a6df8c2dfd49"
      },
      "source": [
        "for i in l:\n",
        "  print(i)"
      ],
      "execution_count": null,
      "outputs": [
        {
          "output_type": "stream",
          "text": [
            "xmin: 0.6539070047651019, ymin: 0.8000326703701701, xmax: 0.9174729292733328, ymax: 1.0628250801137515, class: 2\n",
            "xmin: 0.4753170020239694, ymin: 0.6128234544822148, xmax: 1.09631420816694, ymax: 1.243461615187781, class: 0\n",
            "xmin: 0.7923476839065551, ymin: 0.7984121488673347, xmax: 1.064870206969125, ymax: 1.0604656802756447, class: 0\n",
            "xmin: 0.6077883920499256, ymin: 0.7561186663593565, xmax: 1.2488044164010457, ymax: 1.102557665024485, class: 1\n",
            "xmin: 0.6152333718538284, ymin: 0.6106537975583757, xmax: 1.2424408692121505, ymax: 1.245335079601833, class: 2\n",
            "xmin: 0.47975138459886824, ymin: 0.4975207955496652, xmax: 1.3736462572642734, ymax: 1.3594263539995466, class: 1\n"
          ],
          "name": "stdout"
        }
      ]
    },
    {
      "cell_type": "code",
      "metadata": {
        "id": "i2J0HjUq_T-X",
        "colab_type": "code",
        "colab": {}
      },
      "source": [
        ""
      ],
      "execution_count": null,
      "outputs": []
    }
  ]
}